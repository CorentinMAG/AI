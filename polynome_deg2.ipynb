{
  "nbformat": 4,
  "nbformat_minor": 0,
  "metadata": {
    "kernelspec": {
      "display_name": "Python 3",
      "language": "python",
      "name": "python3"
    },
    "language_info": {
      "codemirror_mode": {
        "name": "ipython",
        "version": 3
      },
      "file_extension": ".py",
      "mimetype": "text/x-python",
      "name": "python",
      "nbconvert_exporter": "python",
      "pygments_lexer": "ipython3",
      "version": "3.8.1"
    },
    "colab": {
      "name": "polynome_deg2.ipynb",
      "provenance": [],
      "include_colab_link": true
    }
  },
  "cells": [
    {
      "cell_type": "markdown",
      "metadata": {
        "id": "view-in-github",
        "colab_type": "text"
      },
      "source": [
        "<a href=\"https://colab.research.google.com/github/CorentinMAG/AI/blob/master/polynome_deg2.ipynb\" target=\"_parent\"><img src=\"https://colab.research.google.com/assets/colab-badge.svg\" alt=\"Open In Colab\"/></a>"
      ]
    },
    {
      "cell_type": "code",
      "metadata": {
        "id": "t2SBpSp9e90a",
        "colab_type": "code",
        "colab": {}
      },
      "source": [
        "import numpy as np\n",
        "import matplotlib.pyplot as plt\n",
        "from sklearn.datasets import make_regression"
      ],
      "execution_count": null,
      "outputs": []
    },
    {
      "cell_type": "markdown",
      "metadata": {
        "id": "NxIYKvLxe90e",
        "colab_type": "text"
      },
      "source": [
        "## 1 création du dataset"
      ]
    },
    {
      "cell_type": "code",
      "metadata": {
        "id": "s-uGOfIKe90e",
        "colab_type": "code",
        "colab": {},
        "outputId": "76461359-6ebe-47b8-fc9b-ba0fd5cac9ef"
      },
      "source": [
        "x,y = make_regression(n_samples=100,n_features=1,noise=10)\n",
        "y = y + abs(y/2) #pour ajouter un effet non linéaire\n",
        "plt.scatter(x,y)"
      ],
      "execution_count": null,
      "outputs": [
        {
          "output_type": "execute_result",
          "data": {
            "text/plain": [
              "<matplotlib.collections.PathCollection at 0x1fbdef67a60>"
            ]
          },
          "metadata": {
            "tags": []
          },
          "execution_count": 2
        },
        {
          "output_type": "display_data",
          "data": {
            "image/png": "[encoded data removed]",
            "text/plain": [
              "<Figure size 432x288 with 1 Axes>"
            ]
          },
          "metadata": {
            "tags": [],
            "needs_background": "light"
          }
        }
      ]
    },
    {
      "cell_type": "markdown",
      "metadata": {
        "id": "OYvJEKx5e90i",
        "colab_type": "text"
      },
      "source": [
        "On va essayer de passer à un modèle polynomiale de degré 2 y=ax<sup>2</sup>+bx+c, car on vient bien qu'une simple droite ne pourra pas coller à nos données"
      ]
    },
    {
      "cell_type": "code",
      "metadata": {
        "id": "5TXwG-gPe90j",
        "colab_type": "code",
        "colab": {},
        "outputId": "a9a784aa-3ab1-4c1c-f2ed-8eff65ada03c"
      },
      "source": [
        "y = y.reshape(y.shape[0],1)\n",
        "y.shape"
      ],
      "execution_count": null,
      "outputs": [
        {
          "output_type": "execute_result",
          "data": {
            "text/plain": [
              "(100, 1)"
            ]
          },
          "metadata": {
            "tags": []
          },
          "execution_count": 4
        }
      ]
    },
    {
      "cell_type": "code",
      "metadata": {
        "id": "hqTnxayje90m",
        "colab_type": "code",
        "colab": {}
      },
      "source": [
        "#matrice X \n",
        "X = np.hstack((x,np.ones(x.shape)))\n",
        "X = np.hstack((x**2,X))"
      ],
      "execution_count": null,
      "outputs": []
    },
    {
      "cell_type": "code",
      "metadata": {
        "id": "zHFWGdKGe90o",
        "colab_type": "code",
        "colab": {},
        "outputId": "2ec21cbd-d5fd-42a0-81e1-1f3b7731b262"
      },
      "source": [
        "theta = np.random.randn(3,1)\n",
        "theta"
      ],
      "execution_count": null,
      "outputs": [
        {
          "output_type": "execute_result",
          "data": {
            "text/plain": [
              "array([[-1.62192575],\n",
              "       [ 1.42393415],\n",
              "       [ 0.27756268]])"
            ]
          },
          "metadata": {
            "tags": []
          },
          "execution_count": 7
        }
      ]
    },
    {
      "cell_type": "code",
      "metadata": {
        "id": "UQ-mZSl_e90q",
        "colab_type": "code",
        "colab": {}
      },
      "source": [
        "#c'est une regression linéaire, de la forme Y = F*theta\n",
        "def model(X,theta):\n",
        "    return X.dot(theta)"
      ],
      "execution_count": null,
      "outputs": []
    },
    {
      "cell_type": "code",
      "metadata": {
        "id": "xE_HrZ_ne90t",
        "colab_type": "code",
        "colab": {},
        "outputId": "39fbe115-23fe-461b-e0e3-537c97c0ab03"
      },
      "source": [
        "plt.scatter(x,y)\n",
        "plt.scatter(x,model(X,theta),c='r')"
      ],
      "execution_count": null,
      "outputs": [
        {
          "output_type": "execute_result",
          "data": {
            "text/plain": [
              "<matplotlib.collections.PathCollection at 0x1fbe2291d60>"
            ]
          },
          "metadata": {
            "tags": []
          },
          "execution_count": 19
        },
        {
          "output_type": "display_data",
          "data": {
            "image/png": "[encoded data removed]",
            "text/plain": [
              "<Figure size 432x288 with 1 Axes>"
            ]
          },
          "metadata": {
            "tags": [],
            "needs_background": "light"
          }
        }
      ]
    },
    {
      "cell_type": "code",
      "metadata": {
        "id": "W2lUrtBNe90v",
        "colab_type": "code",
        "colab": {}
      },
      "source": [
        "def cost_function(X,y,theta):\n",
        "    m=len(y)\n",
        "    return 1/(2*m)*np.sum((model(X,theta)-y)**2)"
      ],
      "execution_count": null,
      "outputs": []
    },
    {
      "cell_type": "code",
      "metadata": {
        "id": "BDw6SLZhe90y",
        "colab_type": "code",
        "colab": {},
        "outputId": "4e9d572b-3005-4f01-a341-6a927334f239"
      },
      "source": [
        "cost_function(X,y,theta)"
      ],
      "execution_count": null,
      "outputs": [
        {
          "output_type": "execute_result",
          "data": {
            "text/plain": [
              "4475.996021968989"
            ]
          },
          "metadata": {
            "tags": []
          },
          "execution_count": 11
        }
      ]
    },
    {
      "cell_type": "code",
      "metadata": {
        "id": "nbjaRqxne900",
        "colab_type": "code",
        "colab": {}
      },
      "source": [
        "def grad(X,y,theta):\n",
        "    m=len(y)\n",
        "    return 1/m*X.T.dot(model(X,theta)-y)"
      ],
      "execution_count": null,
      "outputs": []
    },
    {
      "cell_type": "code",
      "metadata": {
        "id": "J74tgEpbe902",
        "colab_type": "code",
        "colab": {}
      },
      "source": [
        "def gradient_descent(X,y,theta,learning_rate,n_iterations):\n",
        "    cost_history=np.zeros(n_iterations)\n",
        "    for i in range(0,n_iterations):\n",
        "        theta=theta-learning_rate*grad(X,y,theta)\n",
        "        cost_history[i]=cost_function(X,y,theta)\n",
        "    return theta,cost_history"
      ],
      "execution_count": null,
      "outputs": []
    },
    {
      "cell_type": "code",
      "metadata": {
        "id": "bL_7YH11e905",
        "colab_type": "code",
        "colab": {}
      },
      "source": [
        "theta_final,cost_history = gradient_descent(X,y,theta,learning_rate=0.001,n_iterations=1000)"
      ],
      "execution_count": null,
      "outputs": []
    },
    {
      "cell_type": "code",
      "metadata": {
        "id": "-Zh-YADEe907",
        "colab_type": "code",
        "colab": {},
        "outputId": "ce30f95e-f36e-48a7-cbd6-5a8d911caf24"
      },
      "source": [
        "theta_final"
      ],
      "execution_count": null,
      "outputs": [
        {
          "output_type": "execute_result",
          "data": {
            "text/plain": [
              "array([[ 8.14510774],\n",
              "       [56.07892512],\n",
              "       [17.04269684]])"
            ]
          },
          "metadata": {
            "tags": []
          },
          "execution_count": 15
        }
      ]
    },
    {
      "cell_type": "code",
      "metadata": {
        "id": "CLdJzxm1e909",
        "colab_type": "code",
        "colab": {},
        "outputId": "b073cbd6-493d-48eb-ad26-a7675f4a89ca"
      },
      "source": [
        "prediction = model(X,theta_final)\n",
        "plt.scatter(x,y)\n",
        "plt.scatter(x,prediction,c='r')"
      ],
      "execution_count": null,
      "outputs": [
        {
          "output_type": "execute_result",
          "data": {
            "text/plain": [
              "<matplotlib.collections.PathCollection at 0x1fbe22ebc40>"
            ]
          },
          "metadata": {
            "tags": []
          },
          "execution_count": 20
        },
        {
          "output_type": "display_data",
          "data": {
            "image/png": "[encoded data removed]",
            "text/plain": [
              "<Figure size 432x288 with 1 Axes>"
            ]
          },
          "metadata": {
            "tags": [],
            "needs_background": "light"
          }
        }
      ]
    },
    {
      "cell_type": "code",
      "metadata": {
        "id": "xO7sY2Qee90_",
        "colab_type": "code",
        "colab": {},
        "outputId": "93619e07-9b3f-414b-9f47-226cbb34ac0c"
      },
      "source": [
        "theta_final,cost_history = gradient_descent(X,y,theta,learning_rate=0.01,n_iterations=1000)\n",
        "prediction = model(X,theta_final)\n",
        "plt.scatter(x,y)\n",
        "plt.scatter(x,prediction,c='r')"
      ],
      "execution_count": null,
      "outputs": [
        {
          "output_type": "execute_result",
          "data": {
            "text/plain": [
              "<matplotlib.collections.PathCollection at 0x1fbe2347eb0>"
            ]
          },
          "metadata": {
            "tags": []
          },
          "execution_count": 21
        },
        {
          "output_type": "display_data",
          "data": {
            "image/png": "[encoded data removed]",
            "text/plain": [
              "<Figure size 432x288 with 1 Axes>"
            ]
          },
          "metadata": {
            "tags": [],
            "needs_background": "light"
          }
        }
      ]
    },
    {
      "cell_type": "code",
      "metadata": {
        "id": "eC8AqZb2e91C",
        "colab_type": "code",
        "colab": {},
        "outputId": "bb37bb22-3535-4d8e-a2d6-7c5e885ee737"
      },
      "source": [
        "plt.plot(range(1000),cost_history)"
      ],
      "execution_count": null,
      "outputs": [
        {
          "output_type": "execute_result",
          "data": {
            "text/plain": [
              "[<matplotlib.lines.Line2D at 0x1fbe223e6d0>]"
            ]
          },
          "metadata": {
            "tags": []
          },
          "execution_count": 18
        },
        {
          "output_type": "display_data",
          "data": {
            "image/png": "[encoded data removed]",
            "text/plain": [
              "<Figure size 432x288 with 1 Axes>"
            ]
          },
          "metadata": {
            "tags": [],
            "needs_background": "light"
          }
        }
      ]
    },
    {
      "cell_type": "code",
      "metadata": {
        "id": "6LBTUXEne91F",
        "colab_type": "code",
        "colab": {}
      },
      "source": [
        "#c'est le R2\n",
        "def coeff_determination(y,pred):\n",
        "    u=((y-pred)**2).sum()\n",
        "    v=((y-y.mean())**2).sum()\n",
        "    return 1 - u/v"
      ],
      "execution_count": null,
      "outputs": []
    },
    {
      "cell_type": "code",
      "metadata": {
        "id": "Ro2KCeGue91H",
        "colab_type": "code",
        "colab": {},
        "outputId": "537892e3-a454-43d1-8bcc-00bc0589f71a"
      },
      "source": [
        "coeff_determination(y,prediction)"
      ],
      "execution_count": null,
      "outputs": [
        {
          "output_type": "execute_result",
          "data": {
            "text/plain": [
              "0.9612374853346928"
            ]
          },
          "metadata": {
            "tags": []
          },
          "execution_count": 23
        }
      ]
    },
    {
      "cell_type": "code",
      "metadata": {
        "id": "umpzkCRae91J",
        "colab_type": "code",
        "colab": {}
      },
      "source": [
        ""
      ],
      "execution_count": null,
      "outputs": []
    }
  ]
}