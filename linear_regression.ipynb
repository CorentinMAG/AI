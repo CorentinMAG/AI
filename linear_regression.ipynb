{
  "nbformat": 4,
  "nbformat_minor": 0,
  "metadata": {
    "kernelspec": {
      "display_name": "Python 3",
      "language": "python",
      "name": "python3"
    },
    "language_info": {
      "codemirror_mode": {
        "name": "ipython",
        "version": 3
      },
      "file_extension": ".py",
      "mimetype": "text/x-python",
      "name": "python",
      "nbconvert_exporter": "python",
      "pygments_lexer": "ipython3",
      "version": "3.8.1"
    },
    "colab": {
      "name": "linear_regression.ipynb",
      "provenance": [],
      "include_colab_link": true
    }
  },
  "cells": [
    {
      "cell_type": "markdown",
      "metadata": {
        "id": "view-in-github",
        "colab_type": "text"
      },
      "source": [
        "<a href=\"https://colab.research.google.com/github/CorentinMAG/AI/blob/master/linear_regression.ipynb\" target=\"_parent\"><img src=\"https://colab.research.google.com/assets/colab-badge.svg\" alt=\"Open In Colab\"/></a>"
      ]
    },
    {
      "cell_type": "markdown",
      "metadata": {
        "id": "Ky6DgPLjJP6Z",
        "colab_type": "text"
      },
      "source": [
        "L'objectif est de répondre à la question: Étant donné les caractéristiques de mon appartement, combien devrais-je normalement payer mon loyer ?\n",
        "\n",
        "Pour l'instant, la seule caractéristique dont on dispose est la surface de l'appartement\n",
        "\n",
        "A partir d'un jeu de données, on va essayer de dégager un modèle adapté, l'implémenter en python puis essayer de prédire le loyer d'appartements."
      ]
    },
    {
      "cell_type": "code",
      "metadata": {
        "id": "RGBLoY2yJP6a",
        "colab_type": "code",
        "colab": {}
      },
      "source": [
        "import numpy as np\n",
        "import pandas as pd\n",
        "import matplotlib.pyplot as plt"
      ],
      "execution_count": null,
      "outputs": []
    },
    {
      "cell_type": "code",
      "metadata": {
        "id": "PCiRtdSWJP6d",
        "colab_type": "code",
        "colab": {},
        "outputId": "2a4e7db0-5c17-44fb-a9e7-2296011c1085"
      },
      "source": [
        "#load data\n",
        "house_data = pd.read_csv('house.csv')\n",
        "print(house_data)"
      ],
      "execution_count": null,
      "outputs": [
        {
          "output_type": "stream",
          "text": [
            "     loyer  surface\n",
            "0     1330       37\n",
            "1     1400       32\n",
            "2      904       26\n",
            "3      955       30\n",
            "4     2545       70\n",
            "..     ...      ...\n",
            "540   1490       48\n",
            "541   2020       58\n",
            "542   2050       70\n",
            "543   1220       42\n",
            "544   1610       44\n",
            "\n",
            "[545 rows x 2 columns]\n"
          ],
          "name": "stdout"
        }
      ]
    },
    {
      "cell_type": "code",
      "metadata": {
        "id": "F9f19D35JP6h",
        "colab_type": "code",
        "colab": {},
        "outputId": "a2b5d116-55b1-4dd9-d045-d67cdf08ecfc"
      },
      "source": [
        "plt.plot(house_data['surface'],house_data['loyer'],'ro',markersize=4)\n",
        "plt.xlabel('Surface')\n",
        "plt.ylabel('Loyer')"
      ],
      "execution_count": null,
      "outputs": [
        {
          "output_type": "execute_result",
          "data": {
            "text/plain": [
              "Text(0, 0.5, 'Loyer')"
            ]
          },
          "metadata": {
            "tags": []
          },
          "execution_count": 3
        },
        {
          "output_type": "display_data",
          "data": {
            "image/png": "[encoded data removed]",
            "text/plain": [
              "<Figure size 432x288 with 1 Axes>"
            ]
          },
          "metadata": {
            "tags": [],
            "needs_background": "light"
          }
        }
      ]
    },
    {
      "cell_type": "markdown",
      "metadata": {
        "id": "fgIrYv3DJP6j",
        "colab_type": "text"
      },
      "source": [
        "on voit clairement se dessiner un profil linéaire. On peut émettre l'hypothèse que le phénomène est une droite.\n",
        "Cependant, quand la surface devient trop grande, les données semblent devenir moins modélisables.\n",
        "On va donc exclure pour l'instant ces valeurs aberrantes en ne gardant que les loyers inférieurs à 10 000 €"
      ]
    },
    {
      "cell_type": "code",
      "metadata": {
        "id": "e3aR8so6JP6k",
        "colab_type": "code",
        "colab": {},
        "outputId": "637b9ca9-a4ce-484f-dda1-8837399421e3"
      },
      "source": [
        "house_data = house_data[house_data['loyer'] < 10000]\n",
        "plt.plot(house_data['surface'],house_data['loyer'],'ro',markersize=4)\n",
        "plt.xlabel('Surface')\n",
        "plt.ylabel('Loyer')\n",
        "plt.show()"
      ],
      "execution_count": null,
      "outputs": [
        {
          "output_type": "display_data",
          "data": {
            "image/png": "[encoded data removed]",
            "text/plain": [
              "<Figure size 432x288 with 1 Axes>"
            ]
          },
          "metadata": {
            "tags": [],
            "needs_background": "light"
          }
        }
      ]
    },
    {
      "cell_type": "markdown",
      "metadata": {
        "id": "xj_o6Aa-JP6n",
        "colab_type": "text"
      },
      "source": [
        "Notre objectif est donc de trouver l'équation de la droite qui se rapproche le plus des données. Il faut donc minimer les erreurs quadratiques.\n",
        "\n",
        "Dans notre cas, il s'agit d'une simple regression linéaire car notre problème est unidimensionnel (ne comporte qu'une variable, la surface).\n",
        "Notre droite sera donc de la forme y = ax + b avec y le loyer et x la surface\n",
        "La méthode des moindres carrées nous donne les coefficient a et b.  \n",
        "Il faut résoudre le système (X<sup>T</sup>X)<sup>-1</sup>X<sup>T</sup>Y"
      ]
    },
    {
      "cell_type": "code",
      "metadata": {
        "id": "D44Q4czpJP6n",
        "colab_type": "code",
        "colab": {},
        "outputId": "1e1dbd5e-12b0-4402-a4a5-2d2e955e548a"
      },
      "source": [
        "#on construit X et Y\n",
        "X = np.matrix([np.ones(house_data.shape[0]),house_data['surface'].values]).T\n",
        "Y = np.matrix(house_data['loyer'].values).T\n",
        "\n",
        "#puis on construit l'estimateur\n",
        "estimateur = np.linalg.inv(X.T.dot(X)).dot(X.T).dot(Y)\n",
        "print(estimateur)\n"
      ],
      "execution_count": null,
      "outputs": [
        {
          "output_type": "stream",
          "text": [
            "[[266.45460292]\n",
            " [ 30.66119596]]\n"
          ],
          "name": "stdout"
        }
      ]
    },
    {
      "cell_type": "markdown",
      "metadata": {
        "id": "Mes5Wa3sJP6s",
        "colab_type": "text"
      },
      "source": [
        "ainsi dans l'équation de notre droite, b = 266.5 et a = 30.7\n",
        "notre régression linéaire donne donc la droite y = 30.7x + 266.5 comme étant le modèle de répartition de nos données (pour un loyer inférieur à 10 000 €)\n",
        "Affichons la droite pour voir si elle est bien représentative"
      ]
    },
    {
      "cell_type": "code",
      "metadata": {
        "id": "CL-3QUuhJP6s",
        "colab_type": "code",
        "colab": {},
        "outputId": "6d644490-7d50-4947-bd66-e752bb77338c"
      },
      "source": [
        "house_data = house_data[house_data['loyer'] < 10000]\n",
        "plt.plot(house_data['surface'],house_data['loyer'],'ro',markersize=4)\n",
        "plt.plot([0,250],[estimateur.item(0),estimateur.item(1)*250+estimateur.item(0)],linestyle='--',c='#000000')\n",
        "plt.xlabel('Surface')\n",
        "plt.ylabel('Loyer')\n",
        "plt.show()"
      ],
      "execution_count": null,
      "outputs": [
        {
          "output_type": "display_data",
          "data": {
            "image/png": "[encoded data removed]",
            "text/plain": [
              "<Figure size 432x288 with 1 Axes>"
            ]
          },
          "metadata": {
            "tags": [],
            "needs_background": "light"
          }
        }
      ]
    },
    {
      "cell_type": "markdown",
      "metadata": {
        "id": "a2OOr6hVJP6v",
        "colab_type": "text"
      },
      "source": [
        "La droite semble bien modéliser la répartition de nos données\n",
        "On peut maintenant utiliser notre modèle pour faire des prédictions.\n",
        "pour un appartement de 37 m<sup>2</sup>, on trouve une estimation du loyer"
      ]
    },
    {
      "cell_type": "code",
      "metadata": {
        "id": "YRjL_ZbcJP6w",
        "colab_type": "code",
        "colab": {},
        "outputId": "5768bfe9-2212-4ee5-8ef6-c91cc3c95e66"
      },
      "source": [
        "print(estimateur.item(0) + estimateur.item(1) * 37,'€')"
      ],
      "execution_count": null,
      "outputs": [
        {
          "output_type": "stream",
          "text": [
            "1400.9188534828056 €\n"
          ],
          "name": "stdout"
        }
      ]
    },
    {
      "cell_type": "markdown",
      "metadata": {
        "id": "tjTamAL2JP6y",
        "colab_type": "text"
      },
      "source": [
        "on trouve un loyer de 1401 €. En réalité, dans nos données on trouve qu'un appartement de 37m<sup>2</sup> vaut 1330 €.\n",
        "Notre modèle n'est pas super précis.\n",
        "ici on a décomposé l'entrainement de la regression linéaire. Dans scikit-learn la régression est déjà implémentée"
      ]
    },
    {
      "cell_type": "code",
      "metadata": {
        "id": "af5tvEtjJP6z",
        "colab_type": "code",
        "colab": {},
        "outputId": "4607bbea-6bdf-4bcc-8e9c-8392130bcb11"
      },
      "source": [
        "#la même chose mais avec scikit-learn\n",
        "from sklearn import linear_model\n",
        "regression = linear_model.LinearRegression()\n",
        "\n",
        "#on entraine l'algorithme avec nos données\n",
        "regression.fit(X,Y)\n",
        "#on fait une prédiction, pour le premier jeu de données qu'on a loyer = 1330 surface = 37\n",
        "result = regression.predict(np.matrix(house_data.values[0]))\n",
        "print(np.round(result).astype('int'))\n",
        "\n",
        "#prédiction de l'ensemble des données\n",
        "result_tot = regression.predict(house_data)"
      ],
      "execution_count": null,
      "outputs": [
        {
          "output_type": "stream",
          "text": [
            "[[1401]]\n"
          ],
          "name": "stdout"
        }
      ]
    },
    {
      "cell_type": "markdown",
      "metadata": {
        "id": "7N7aPco3JP61",
        "colab_type": "text"
      },
      "source": [
        "notre modèle trouve un loyer de 1401€ alors qu'en réalité le loyer est de 1330 €.\n",
        "Notre algorithme n'a peut être pas assez de donnée du coup il n'est pas très précis. Il faut augmenter le nombre de donnée à tester.\n",
        "Ici, on a fait de l'entrainement avec toutes nos données puis on a fait des prédictions sur ces mêmes données.\n",
        "En réalité, on va séparer  notre jeu de donnée en plusieurs dataset.\n",
        "1. un dataset pour entrainer le modèle\n",
        "2. un dataset pour tester le modèle\n",
        "3. un dataset pour valider le modèle\n",
        "\n",
        "Le dataset de test va nous servir à quantifier la qualité du modèle"
      ]
    },
    {
      "cell_type": "code",
      "metadata": {
        "id": "MrtPyG2sJP61",
        "colab_type": "code",
        "colab": {},
        "outputId": "31b19604-b713-4d1c-81da-fc521235837a"
      },
      "source": [
        "from sklearn.metrics import accuracy_score\n",
        "plt.plot(np.round(house_data[[\"surface\"]]), house_data['loyer'].values, 'bo', markersize = 5)\n",
        "plt.plot(house_data[[\"surface\"]], np.round(result_tot.reshape(-1)), color=\"skyblue\", linewidth = 2)\n",
        "print(accuracy_score(np.round(result_tot.reshape(-1)),np.round(house_data['loyer'].values)))"
      ],
      "execution_count": null,
      "outputs": [
        {
          "output_type": "stream",
          "text": [
            "0.0037313432835820895\n"
          ],
          "name": "stdout"
        },
        {
          "output_type": "display_data",
          "data": {
            "image/png": "[encoded data removed]",
            "text/plain": [
              "<Figure size 432x288 with 1 Axes>"
            ]
          },
          "metadata": {
            "tags": [],
            "needs_background": "light"
          }
        }
      ]
    },
    {
      "cell_type": "markdown",
      "metadata": {
        "id": "2vasbDk-JP64",
        "colab_type": "text"
      },
      "source": [
        "ici on voit que nos prédictions ne sont pas du tout en adéquation avec nos données. La méthode de régression linéaire n'est pas suffisament précise. Il est vrai que le loyer ne dépend pas uniquement de la surface, mais aussi de la localisation, du nombre de pièce...\n",
        "On pourrait améliorer notre algorithme en:\n",
        "1. augmentant le nombre de paramètres\n",
        "2. augmentant le nombre de données\n",
        "3. tester d'autres algorithmes\n",
        "\n",
        "On a recréé la droite régression sur les données brutes"
      ]
    }
  ]
}