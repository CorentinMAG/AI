{
 "cells": [
  {
   "cell_type": "markdown",
   "metadata": {
    "colab_type": "text",
    "id": "view-in-github"
   },
   "source": [
    "<a href=\"https://colab.research.google.com/github/CorentinMAG/AI/blob/master/linear_regression.ipynb\" target=\"_parent\"><img src=\"https://colab.research.google.com/assets/colab-badge.svg\" alt=\"Open In Colab\"/></a>"
   ]
  },
  {
   "cell_type": "markdown",
   "metadata": {
    "colab_type": "text",
    "id": "Ky6DgPLjJP6Z"
   },
   "source": [
    "L'objectif est de répondre à la question: Étant donné les caractéristiques de mon appartement, combien devrais-je normalement payer mon loyer ?\n",
    "\n",
    "Pour l'instant, la seule caractéristique dont on dispose est la surface de l'appartement\n",
    "\n",
    "A partir d'un jeu de données, on va essayer de dégager un modèle adapté, l'implémenter en python puis essayer de prédire le loyer d'appartements."
   ]
  },
  {
   "cell_type": "code",
   "execution_count": 1,
   "metadata": {
    "colab": {},
    "colab_type": "code",
    "id": "RGBLoY2yJP6a"
   },
   "outputs": [],
   "source": [
    "import numpy as np\n",
    "import pandas as pd\n",
    "import matplotlib.pyplot as plt"
   ]
  },
  {
   "cell_type": "code",
   "execution_count": 2,
   "metadata": {
    "colab": {},
    "colab_type": "code",
    "id": "PCiRtdSWJP6d",
    "outputId": "2a4e7db0-5c17-44fb-a9e7-2296011c1085"
   },
   "outputs": [
    {
     "name": "stdout",
     "output_type": "stream",
     "text": [
      "     loyer  surface\n",
      "0     1330       37\n",
      "1     1400       32\n",
      "2      904       26\n",
      "3      955       30\n",
      "4     2545       70\n",
      "..     ...      ...\n",
      "540   1490       48\n",
      "541   2020       58\n",
      "542   2050       70\n",
      "543   1220       42\n",
      "544   1610       44\n",
      "\n",
      "[545 rows x 2 columns]\n"
     ]
    }
   ],
   "source": [
    "#load data\n",
    "house_data = pd.read_csv('house.csv')\n",
    "print(house_data)"
   ]
  },
  {
   "cell_type": "code",
   "execution_count": 3,
   "metadata": {
    "colab": {},
    "colab_type": "code",
    "id": "F9f19D35JP6h",
    "outputId": "a2b5d116-55b1-4dd9-d045-d67cdf08ecfc"
   },
   "outputs": [
    {
     "data": {
      "text/plain": [
       "Text(0, 0.5, 'Loyer')"
      ]
     },
     "execution_count": 3,
     "metadata": {},
     "output_type": "execute_result"
    },
    {
     "data": {
      "image/png": "[encoded data removed]",
      "text/plain": [
       "<Figure size 432x288 with 1 Axes>"
      ]
     },
     "metadata": {
      "needs_background": "light"
     },
     "output_type": "display_data"
    }
   ],
   "source": [
    "plt.plot(house_data['surface'],house_data['loyer'],'ro',markersize=4)\n",
    "plt.xlabel('Surface')\n",
    "plt.ylabel('Loyer')"
   ]
  },
  {
   "cell_type": "markdown",
   "metadata": {
    "colab_type": "text",
    "id": "fgIrYv3DJP6j"
   },
   "source": [
    "on voit clairement se dessiner un profil linéaire. On peut émettre l'hypothèse que le phénomène est une droite.\n",
    "Cependant, quand la surface devient trop grande, les données semblent devenir moins modélisables.\n",
    "On va donc exclure pour l'instant ces valeurs aberrantes en ne gardant que les loyers inférieurs à 10 000 €"
   ]
  },
  {
   "cell_type": "code",
   "execution_count": 4,
   "metadata": {
    "colab": {},
    "colab_type": "code",
    "id": "e3aR8so6JP6k",
    "outputId": "637b9ca9-a4ce-484f-dda1-8837399421e3"
   },
   "outputs": [
    {
     "data": {
      "image/png": "[encoded data removed]",
      "text/plain": [
       "<Figure size 432x288 with 1 Axes>"
      ]
     },
     "metadata": {
      "needs_background": "light"
     },
     "output_type": "display_data"
    }
   ],
   "source": [
    "#on exclut les loyer > 10 000€\n",
    "house_data = house_data[house_data['loyer'] < 10000]\n",
    "plt.plot(house_data['surface'],house_data['loyer'],'ro',markersize=4)\n",
    "plt.xlabel('Surface')\n",
    "plt.ylabel('Loyer')\n",
    "plt.show()"
   ]
  },
  {
   "cell_type": "markdown",
   "metadata": {
    "colab_type": "text",
    "id": "xj_o6Aa-JP6n"
   },
   "source": [
    "Notre objectif est donc de trouver l'équation de la droite qui se rapproche le plus des données. Il faut donc minimer les erreurs quadratiques.\n",
    "\n",
    "Dans notre cas, il s'agit d'une simple regression linéaire car notre problème est unidimensionnel (ne comporte qu'une variable, la surface).\n",
    "Notre droite sera donc de la forme y = ax + b avec y le loyer et x la surface\n",
    "La méthode des moindres carrées nous donne les coefficient a et b.  \n",
    "Il faut résoudre le système (X<sup>T</sup>X)<sup>-1</sup>X<sup>T</sup>Y"
   ]
  },
  {
   "cell_type": "code",
   "execution_count": 5,
   "metadata": {
    "colab": {},
    "colab_type": "code",
    "id": "D44Q4czpJP6n",
    "outputId": "1e1dbd5e-12b0-4402-a4a5-2d2e955e548a"
   },
   "outputs": [
    {
     "data": {
      "text/plain": [
       "[<matplotlib.lines.Line2D at 0x1ecbddd32e0>]"
      ]
     },
     "execution_count": 5,
     "metadata": {},
     "output_type": "execute_result"
    },
    {
     "data": {
      "image/png": "[encoded data removed]",
      "text/plain": [
       "<Figure size 432x288 with 1 Axes>"
      ]
     },
     "metadata": {
      "needs_background": "light"
     },
     "output_type": "display_data"
    }
   ],
   "source": [
    "#notre feature\n",
    "x=house_data['surface']\n",
    "x=np.array(x).reshape(x.shape[0],1)\n",
    "\n",
    "y=house_data['loyer']\n",
    "y=np.array(y).reshape(y.shape[0],1)\n",
    "\n",
    "#on construit X on a Y=X*theta\n",
    "X=np.hstack((x,np.ones(x.shape)))\n",
    "\n",
    "#notre theta est aléatoire, l'algorithme devra trouve le theta optimale\n",
    "theta = np.random.randn(2,1)\n",
    "\n",
    "def model(X,theta):\n",
    "    return X.dot(theta)\n",
    "\n",
    "plt.plot(x,model(X,theta))\n",
    "plt.plot(x,y,'ro',markersize=4)\n",
    "    "
   ]
  },
  {
   "cell_type": "markdown",
   "metadata": {},
   "source": [
    "On voit clairement que pour l'instant notre modèle ne correspond pas du tout à nos données.\n",
    "Calculons la fonction de coût "
   ]
  },
  {
   "cell_type": "code",
   "execution_count": 6,
   "metadata": {},
   "outputs": [
    {
     "data": {
      "text/plain": [
       "3088092.747469703"
      ]
     },
     "execution_count": 6,
     "metadata": {},
     "output_type": "execute_result"
    }
   ],
   "source": [
    "def cost_function(X,y,theta):\n",
    "    m=len(y)\n",
    "    return 1/(2*m)*np.sum((model(X,theta)-y)**2)\n",
    "cost_function(X,y,theta)"
   ]
  },
  {
   "cell_type": "markdown",
   "metadata": {},
   "source": [
    "Notre erreur est donc très élevé. Il faut la minimiser.\n",
    "Pour cela on peut utiliser la méthode des moindres carrés dont le système a été donnée ci-dessus"
   ]
  },
  {
   "cell_type": "code",
   "execution_count": 7,
   "metadata": {},
   "outputs": [
    {
     "name": "stdout",
     "output_type": "stream",
     "text": [
      "[[ 30.66119596]\n",
      " [266.45460292]]\n"
     ]
    }
   ],
   "source": [
    "def moindres_carrés(X,y):\n",
    "    return np.linalg.inv(X.T.dot(X)).dot(X.T).dot(y)\n",
    "theta_final = moindres_carrés(X,y)\n",
    "print(theta_final)\n"
   ]
  },
  {
   "cell_type": "markdown",
   "metadata": {
    "colab_type": "text",
    "id": "Mes5Wa3sJP6s"
   },
   "source": [
    "ainsi dans l'équation de notre droite, b = 266.5 et a = 30.7\n",
    "notre régression linéaire donne donc la droite y = 30.7x + 266.5 comme étant le modèle de répartition de nos données (pour un loyer inférieur à 10 000 €)\n",
    "Affichons la droite pour voir si elle est bien représentative"
   ]
  },
  {
   "cell_type": "code",
   "execution_count": 8,
   "metadata": {
    "colab": {},
    "colab_type": "code",
    "id": "CL-3QUuhJP6s",
    "outputId": "6d644490-7d50-4947-bd66-e752bb77338c"
   },
   "outputs": [
    {
     "data": {
      "image/png": "[encoded data removed]",
      "text/plain": [
       "<Figure size 432x288 with 1 Axes>"
      ]
     },
     "metadata": {
      "needs_background": "light"
     },
     "output_type": "display_data"
    }
   ],
   "source": [
    "plt.plot(x,y,'ro',markersize=4)\n",
    "plt.plot(x,model(X,theta_final),linestyle='--',c='#000000')\n",
    "plt.xlabel('Surface')\n",
    "plt.ylabel('Loyer')\n",
    "plt.show()"
   ]
  },
  {
   "cell_type": "markdown",
   "metadata": {
    "colab_type": "text",
    "id": "a2OOr6hVJP6v"
   },
   "source": [
    "La droite semble bien modéliser la répartition de nos données\n",
    "On peut maintenant utiliser notre modèle pour faire des prédictions.\n",
    "pour un appartement de 37 m<sup>2</sup>, on trouve une estimation du loyer"
   ]
  },
  {
   "cell_type": "code",
   "execution_count": 9,
   "metadata": {
    "colab": {},
    "colab_type": "code",
    "id": "YRjL_ZbcJP6w",
    "outputId": "5768bfe9-2212-4ee5-8ef6-c91cc3c95e66"
   },
   "outputs": [
    {
     "name": "stdout",
     "output_type": "stream",
     "text": [
      "1400.9188534828068 €\n"
     ]
    }
   ],
   "source": [
    "print(theta_final.item(1) + theta_final.item(0) * 37,'€')"
   ]
  },
  {
   "cell_type": "markdown",
   "metadata": {
    "colab_type": "text",
    "id": "tjTamAL2JP6y"
   },
   "source": [
    "on trouve un loyer de 1401 €. En réalité, dans nos données on trouve qu'un appartement de 37m<sup>2</sup> vaut 1330 €.\n",
    "Notre modèle n'est pas super précis.\n",
    "ici on a décomposé l'entrainement de la regression linéaire. Dans scikit-learn la régression est déjà implémentée"
   ]
  },
  {
   "cell_type": "code",
   "execution_count": 10,
   "metadata": {
    "colab": {},
    "colab_type": "code",
    "id": "af5tvEtjJP6z",
    "outputId": "4607bbea-6bdf-4bcc-8e9c-8392130bcb11"
   },
   "outputs": [
    {
     "name": "stdout",
     "output_type": "stream",
     "text": [
      "[1400.91885348]\n"
     ]
    }
   ],
   "source": [
    "#la même chose mais avec scikit-learn\n",
    "from sklearn import linear_model\n",
    "regression = linear_model.LinearRegression()\n",
    "\n",
    "#on entraine l'algorithme avec nos données\n",
    "regression.fit(x,y)\n",
    "\n",
    "#on fait une prédiction, pour le premier jeu de données qu'on a loyer = 1330 surface = 37\n",
    "result = regression.predict(x)\n",
    "print(result[0])"
   ]
  },
  {
   "cell_type": "markdown",
   "metadata": {
    "colab_type": "text",
    "id": "7N7aPco3JP61"
   },
   "source": [
    "notre modèle trouve un loyer de 1401€ alors qu'en réalité le loyer est de 1330 €.\n",
    "Notre algorithme n'a peut être pas assez de donnée du coup il n'est pas très précis. Il faut augmenter le nombre de donnée à tester.\n",
    "Ici, on a fait de l'entrainement avec toutes nos données puis on a fait des prédictions sur ces mêmes données.\n",
    "En réalité, on va séparer  notre jeu de donnée en plusieurs dataset.\n",
    "1. un dataset pour entrainer le modèle\n",
    "2. un dataset pour tester le modèle\n",
    "3. un dataset pour valider le modèle\n",
    "\n",
    "Le dataset de test va nous servir à quantifier la qualité du modèle"
   ]
  },
  {
   "cell_type": "code",
   "execution_count": 11,
   "metadata": {
    "colab": {},
    "colab_type": "code",
    "id": "MrtPyG2sJP61",
    "outputId": "31b19604-b713-4d1c-81da-fc521235837a"
   },
   "outputs": [
    {
     "name": "stdout",
     "output_type": "stream",
     "text": [
      "0.0037313432835820895\n"
     ]
    },
    {
     "data": {
      "image/png": "[encoded data removed]",
      "text/plain": [
       "<Figure size 432x288 with 1 Axes>"
      ]
     },
     "metadata": {
      "needs_background": "light"
     },
     "output_type": "display_data"
    }
   ],
   "source": [
    "from sklearn.metrics import accuracy_score\n",
    "plt.plot(x, y, 'bo', markersize = 5)\n",
    "plt.plot(x, result, color=\"skyblue\", linewidth = 2)\n",
    "print(accuracy_score(np.round(result),np.round(y)))"
   ]
  },
  {
   "cell_type": "markdown",
   "metadata": {
    "colab_type": "text",
    "id": "2vasbDk-JP64"
   },
   "source": [
    "ici on voit que nos prédictions ne sont pas du tout en adéquation avec nos données. La méthode de régression linéaire n'est pas suffisament précise. Il est vrai que le loyer ne dépend pas uniquement de la surface, mais aussi de la localisation, du nombre de pièce...\n",
    "On pourrait améliorer notre algorithme en:\n",
    "1. augmentant le nombre de paramètres\n",
    "2. augmentant le nombre de données\n",
    "3. tester d'autres algorithmes\n",
    "\n",
    "On a recréé la droite régression sur les données brutes"
   ]
  }
 ],
 "metadata": {
  "colab": {
   "include_colab_link": true,
   "name": "linear_regression.ipynb",
   "provenance": []
  },
  "kernelspec": {
   "display_name": "Python 3",
   "language": "python",
   "name": "python3"
  },
  "language_info": {
   "codemirror_mode": {
    "name": "ipython",
    "version": 3
   },
   "file_extension": ".py",
   "mimetype": "text/x-python",
   "name": "python",
   "nbconvert_exporter": "python",
   "pygments_lexer": "ipython3",
   "version": "3.8.1"
  }
 },
 "nbformat": 4,
 "nbformat_minor": 1
}
