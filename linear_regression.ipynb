{
  "nbformat": 4,
  "nbformat_minor": 0,
  "metadata": {
    "kernelspec": {
      "display_name": "Python 3",
      "language": "python",
      "name": "python3"
    },
    "language_info": {
      "codemirror_mode": {
        "name": "ipython",
        "version": 3
      },
      "file_extension": ".py",
      "mimetype": "text/x-python",
      "name": "python",
      "nbconvert_exporter": "python",
      "pygments_lexer": "ipython3",
      "version": "3.8.1"
    },
    "colab": {
      "name": "linear_regression.ipynb",
      "provenance": [],
      "include_colab_link": true
    }
  },
  "cells": [
    {
      "cell_type": "markdown",
      "metadata": {
        "id": "view-in-github",
        "colab_type": "text"
      },
      "source": [
        "<a href=\"https://colab.research.google.com/github/CorentinMAG/AI/blob/master/linear_regression.ipynb\" target=\"_parent\"><img src=\"https://colab.research.google.com/assets/colab-badge.svg\" alt=\"Open In Colab\"/></a>"
      ]
    },
    {
      "cell_type": "markdown",
      "metadata": {
        "id": "iaXIKGTx-XCH",
        "colab_type": "text"
      },
      "source": [
        "L'objectif est de répondre à la question: Étant donné les caractéristiques de mon appartement, combien devrais-je normalement payer mon loyer ?\n",
        "\n",
        "Pour l'instant, la seule caractéristique dont on dispose est la surface de l'appartement\n",
        "\n",
        "A partir d'un jeu de données, on va essayer de dégager un modèle adapté, l'implémenter en python puis essayer de prédire le loyer d'appartements."
      ]
    },
    {
      "cell_type": "code",
      "metadata": {
        "id": "DkfN7NtN-XCI",
        "colab_type": "code",
        "colab": {}
      },
      "source": [
        "import numpy as np\n",
        "import pandas as pd\n",
        "import matplotlib.pyplot as plt"
      ],
      "execution_count": null,
      "outputs": []
    },
    {
      "cell_type": "code",
      "metadata": {
        "id": "mNFqsTVa-XCN",
        "colab_type": "code",
        "colab": {},
        "outputId": "270d755b-9bdf-467b-ff7e-fa93a671745b"
      },
      "source": [
        "#load data\n",
        "house_data = pd.read_csv('house.csv')\n",
        "print(house_data)"
      ],
      "execution_count": null,
      "outputs": [
        {
          "output_type": "stream",
          "text": [
            "     loyer  surface\n",
            "0     1330       37\n",
            "1     1400       32\n",
            "2      904       26\n",
            "3      955       30\n",
            "4     2545       70\n",
            "..     ...      ...\n",
            "540   1490       48\n",
            "541   2020       58\n",
            "542   2050       70\n",
            "543   1220       42\n",
            "544   1610       44\n",
            "\n",
            "[545 rows x 2 columns]\n"
          ],
          "name": "stdout"
        }
      ]
    },
    {
      "cell_type": "code",
      "metadata": {
        "id": "E81UupDW-XCQ",
        "colab_type": "code",
        "colab": {},
        "outputId": "cb346987-ead5-496a-cdca-1716b7b39a5a"
      },
      "source": [
        "plt.plot(house_data['surface'],house_data['loyer'],'ro',markersize=4)\n",
        "plt.xlabel('Surface')\n",
        "plt.ylabel('Loyer')"
      ],
      "execution_count": null,
      "outputs": [
        {
          "output_type": "execute_result",
          "data": {
            "text/plain": [
              "Text(0, 0.5, 'Loyer')"
            ]
          },
          "metadata": {
            "tags": []
          },
          "execution_count": 8
        },
        {
          "output_type": "display_data",
          "data": {
            "image/png": "[encoded data removed]",
            "text/plain": [
              "<Figure size 432x288 with 1 Axes>"
            ]
          },
          "metadata": {
            "tags": [],
            "needs_background": "light"
          }
        }
      ]
    },
    {
      "cell_type": "markdown",
      "metadata": {
        "id": "bCdChSxt-XCT",
        "colab_type": "text"
      },
      "source": [
        "on voit clairement se dessiner un profil linéaire. On peut émettre l'hypothèse que le phénomène est une droite.\n",
        "Cependant, quand la surface devient trop grande, les données semblent devenir moins modélisables.\n",
        "On va donc exclure pour l'instant ces valeurs aberrantes en ne gardant que les loyers inférieurs à 10 000 €"
      ]
    },
    {
      "cell_type": "code",
      "metadata": {
        "id": "rnQw9LBq-XCT",
        "colab_type": "code",
        "colab": {},
        "outputId": "8b23fecd-49c4-4085-ac25-2498d02adfd6"
      },
      "source": [
        "house_data = house_data[house_data['loyer'] < 10000]\n",
        "plt.plot(house_data['surface'],house_data['loyer'],'ro',markersize=4)\n",
        "plt.xlabel('Surface')\n",
        "plt.ylabel('Loyer')\n",
        "plt.show()"
      ],
      "execution_count": null,
      "outputs": [
        {
          "output_type": "display_data",
          "data": {
            "image/png": "[encoded data removed]",
            "text/plain": [
              "<Figure size 432x288 with 1 Axes>"
            ]
          },
          "metadata": {
            "tags": [],
            "needs_background": "light"
          }
        }
      ]
    },
    {
      "cell_type": "markdown",
      "metadata": {
        "id": "0cr-C367-XCW",
        "colab_type": "text"
      },
      "source": [
        "Notre objectif est donc de trouver l'équation de la droite qui se rapproche le plus des données. Il faut donc minimer les erreurs quadratiques.\n",
        "\n",
        "Dans notre cas, il s'agit d'une simple regression linéaire car notre problème est unidimensionnel (ne comporte qu'une variable, la surface).\n",
        "Notre droite sera donc de la forme y = ax + b avec y le loyer et x la surface\n",
        "La méthode des moindres carrées nous donne les coefficient a et b.  \n",
        "Il faut résoudre le système (X<sup>T</sup>X)<sup>-1</sup>X<sup>T</sup>Y"
      ]
    },
    {
      "cell_type": "code",
      "metadata": {
        "id": "GFY56b7L-XCX",
        "colab_type": "code",
        "colab": {},
        "outputId": "9a82d576-58d8-4f9d-c2a2-2fc42c700b5a"
      },
      "source": [
        "#on construit X et Y\n",
        "X = np.matrix([np.ones(house_data.shape[0]),house_data['surface'].values]).T\n",
        "Y = np.matrix(house_data['loyer'].values).T\n",
        "\n",
        "#puis on construit l'estimateur\n",
        "estimateur = np.linalg.inv(X.T.dot(X)).dot(X.T).dot(Y)\n",
        "print(estimateur)\n"
      ],
      "execution_count": null,
      "outputs": [
        {
          "output_type": "stream",
          "text": [
            "[[266.45460292]\n",
            " [ 30.66119596]]\n"
          ],
          "name": "stdout"
        }
      ]
    },
    {
      "cell_type": "markdown",
      "metadata": {
        "id": "dPSOVjBp-XCZ",
        "colab_type": "text"
      },
      "source": [
        "ainsi dans l'équation de notre droite, b = 266.5 et a = 30.7\n",
        "notre régression linéaire donne donc la droite y = 30.7x + 266.5 comme étant le modèle de répartition de nos données (pour un loyer inférieur à 10 000 €)\n",
        "Affichons la droite pour voir si elle est bien représentative"
      ]
    },
    {
      "cell_type": "code",
      "metadata": {
        "id": "rhJHSB7t-XCa",
        "colab_type": "code",
        "colab": {},
        "outputId": "ebd406f2-d964-45cc-cd91-e2c393dce6da"
      },
      "source": [
        "house_data = house_data[house_data['loyer'] < 10000]\n",
        "plt.plot(house_data['surface'],house_data['loyer'],'ro',markersize=4)\n",
        "plt.plot([0,250],[estimateur.item(0),estimateur.item(1)*250+estimateur.item(0)],linestyle='--',c='#000000')\n",
        "plt.xlabel('Surface')\n",
        "plt.ylabel('Loyer')\n",
        "plt.show()"
      ],
      "execution_count": null,
      "outputs": [
        {
          "output_type": "display_data",
          "data": {
            "image/png": "[encoded data removed]",
            "text/plain": [
              "<Figure size 432x288 with 1 Axes>"
            ]
          },
          "metadata": {
            "tags": [],
            "needs_background": "light"
          }
        }
      ]
    },
    {
      "cell_type": "markdown",
      "metadata": {
        "id": "z_hpqeMF-XCc",
        "colab_type": "text"
      },
      "source": [
        "La droite semble bien modéliser la répartition de nos données\n",
        "On peut maintenant utiliser notre modèle pour faire des prédictions.\n",
        "pour un appartement de 37 m<sup>2</sup>, on trouve une estimation du loyer"
      ]
    },
    {
      "cell_type": "code",
      "metadata": {
        "id": "gy7gOOA6-XCd",
        "colab_type": "code",
        "colab": {},
        "outputId": "e2d08283-cce5-4f9e-9e3f-15dc1dcc28e3"
      },
      "source": [
        "print(estimateur.item(0) + estimateur.item(1) * 37,'€')"
      ],
      "execution_count": null,
      "outputs": [
        {
          "output_type": "stream",
          "text": [
            "1400.9188534828056 €\n"
          ],
          "name": "stdout"
        }
      ]
    },
    {
      "cell_type": "markdown",
      "metadata": {
        "id": "zKlw3Qcw-XCf",
        "colab_type": "text"
      },
      "source": [
        "on trouve un loyer de 1401 €. En réalité, dans nos données on trouve qu'un appartement de 37m<sup>2</sup> vaut 1330 €.\n",
        "Notre modèle n'est pas super précis.\n",
        "ici on a décomposé l'entrainement de la regression linéaire. Dans scikit-learn la régression est déjà implémentée"
      ]
    },
    {
      "cell_type": "code",
      "metadata": {
        "id": "_3whTyGY-XCg",
        "colab_type": "code",
        "colab": {},
        "outputId": "544ecb1c-689f-4c64-a99d-9686a5e2902f"
      },
      "source": [
        "#la même chose mais avec scikit-learn\n",
        "from sklearn import linear_model\n",
        "regression = linear_model.LinearRegression()\n",
        "\n",
        "#on entraine l'algorithme avec nos données\n",
        "regression.fit(X,Y)\n",
        "#on fait une prédiction, pour le premier jeu de données qu'on a loyer = 1330 surface = 37\n",
        "result = regression.predict(np.matrix(house_data.values[0]))\n",
        "print(np.round(result).astype('int'))\n",
        "\n",
        "#prédiction de l'ensemble des données\n",
        "result_tot = regression.predict(house_data)"
      ],
      "execution_count": null,
      "outputs": [
        {
          "output_type": "stream",
          "text": [
            "[[1401]]\n"
          ],
          "name": "stdout"
        }
      ]
    },
    {
      "cell_type": "markdown",
      "metadata": {
        "id": "QEzYrwzz-XCi",
        "colab_type": "text"
      },
      "source": [
        "notre modèle trouve un loyer de 1401€ alors qu'en réalité le loyer est de 1330 €.\n",
        "Notre algorithme n'a peut être pas assez de donnée du coup il n'est pas très précis. Il faut augmenter le nombre de donnée à tester.\n",
        "Ici, on a fait de l'entrainement avec toutes nos données puis on a fait des prédictions sur ces mêmes données.\n",
        "En réalité, on va séparer  notre jeu de donnée en plusieurs dataset.\n",
        "1. un dataset pour entrainer le modèle\n",
        "2. un dataset pour tester le modèle\n",
        "3. un dataset pour valider le modèle\n",
        "\n",
        "Le dataset de test va nous servir à quantifier la qualité du modèle"
      ]
    },
    {
      "cell_type": "code",
      "metadata": {
        "id": "sEBfrGOZ-XCi",
        "colab_type": "code",
        "colab": {},
        "outputId": "69a4e6c2-f366-4937-80bb-226018613972"
      },
      "source": [
        "from sklearn.metrics import accuracy_score\n",
        "print(accuracy_score(np.round(result_tot.reshape(-1)),np.round(house_data['loyer'].values)))"
      ],
      "execution_count": null,
      "outputs": [
        {
          "output_type": "stream",
          "text": [
            "0.0037313432835820895\n"
          ],
          "name": "stdout"
        }
      ]
    },
    {
      "cell_type": "markdown",
      "metadata": {
        "id": "_ew4ym1N-XCl",
        "colab_type": "text"
      },
      "source": [
        "ici on voit que nos prédictions ne sont pas du tout en adéquation avec nos données. La méthode de régression linéaire n'est pas suffisament précise. Il est vrai que le loyer ne dépend pas uniquement de la surface, mais aussi de la localisation, du nombre de pièce...\n",
        "On pourrait améliorer notre algorithme en:\n",
        "1. augmentant le nombre de paramètres\n",
        "2. augmentant le nombre de données\n",
        "3. tester d'autres algorithmes"
      ]
    }
  ]
}