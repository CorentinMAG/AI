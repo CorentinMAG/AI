{
 "cells": [
  {
   "cell_type": "markdown",
   "metadata": {
    "colab_type": "text",
    "id": "view-in-github"
   },
   "source": [
    "<a href=\"https://colab.research.google.com/github/CorentinMAG/AI/blob/master/KNN.ipynb\" target=\"_parent\"><img src=\"https://colab.research.google.com/assets/colab-badge.svg\" alt=\"Open In Colab\"/></a>"
   ]
  },
  {
   "cell_type": "markdown",
   "metadata": {
    "colab_type": "text",
    "id": "nAM51vozwlzX"
   },
   "source": [
    "On va utiliser un jeu de données appelé MNIST.  \n",
    "Il est constitué d'un ensemble de 70 000 images de chiffre en 28x28 pixels en noir et blanc annotées du chiffre correspondant (entre 0 et 9).  \n",
    "L'objectif de ce jeu de données était de permettre à un ordinateur d'apprendre à reconnaître des nombres manuscrits automatiquement (pour lire des chèques par exemple).  \n",
    "Notre objectif sera donc d'entraîner un modèle qui sera capable de reconnaître les chiffres écrits sur ce type d'image"
   ]
  },
  {
   "cell_type": "code",
   "execution_count": 1,
   "metadata": {
    "colab": {},
    "colab_type": "code",
    "id": "r7MVw0gfwlzY"
   },
   "outputs": [],
   "source": [
    "import numpy as np\n",
    "import matplotlib.pyplot as plt"
   ]
  },
  {
   "cell_type": "code",
   "execution_count": 2,
   "metadata": {
    "colab": {},
    "colab_type": "code",
    "id": "oWr6DtS7wlzb"
   },
   "outputs": [],
   "source": [
    "from sklearn.datasets import fetch_openml\n",
    "mnist = fetch_openml('mnist_784',version=1)"
   ]
  },
  {
   "cell_type": "code",
   "execution_count": 3,
   "metadata": {
    "colab": {
     "base_uri": "https://localhost:8080/",
     "height": 52
    },
    "colab_type": "code",
    "id": "mx58MUsZwlzf",
    "outputId": "c76e0a59-7680-4a66-9fc8-f9397cad2fcb"
   },
   "outputs": [
    {
     "name": "stdout",
     "output_type": "stream",
     "text": [
      "(70000, 784)\n",
      "(70000,)\n"
     ]
    }
   ],
   "source": [
    "#les images \n",
    "\n",
    "#data contient les images sous forme de tableau, avec des pixels allant de 0 à 16\n",
    "print(mnist.data.shape) \n",
    "\n",
    "#les annotations\n",
    "print(mnist.target.shape)"
   ]
  },
  {
   "cell_type": "markdown",
   "metadata": {
    "colab_type": "text",
    "id": "j0AQTHNewlzj"
   },
   "source": [
    "70 000 est trop de données pour KNN.  \n",
    "On va travailler sur un échantillon de 5000 données."
   ]
  },
  {
   "cell_type": "code",
   "execution_count": 4,
   "metadata": {
    "colab": {},
    "colab_type": "code",
    "id": "RJk6K7A_wlzj"
   },
   "outputs": [],
   "source": [
    "sample = np.random.randint(70000,size=5000) \n",
    "data = mnist.data[sample]\n",
    "target = mnist.target[sample]"
   ]
  },
  {
   "cell_type": "code",
   "execution_count": 5,
   "metadata": {
    "colab": {},
    "colab_type": "code",
    "id": "tNHZKQaSwlzm"
   },
   "outputs": [],
   "source": [
    "#on sépare le dataset en dataset d'entrainement et de test\n",
    "from sklearn.model_selection import train_test_split\n",
    "\n",
    "#x pour les images et y pour les annotations\n",
    "xtrain, xtest, ytrain, ytest = train_test_split(data, target, train_size=0.8)"
   ]
  },
  {
   "cell_type": "code",
   "execution_count": 6,
   "metadata": {
    "colab": {
     "base_uri": "https://localhost:8080/",
     "height": 69
    },
    "colab_type": "code",
    "id": "roq6eZ02wlzo",
    "outputId": "e83fe619-8111-451c-d36a-ba075aaff6bf"
   },
   "outputs": [
    {
     "data": {
      "text/plain": [
       "KNeighborsClassifier(n_neighbors=3)"
      ]
     },
     "execution_count": 6,
     "metadata": {},
     "output_type": "execute_result"
    }
   ],
   "source": [
    "from sklearn import neighbors\n",
    "\n",
    "#on test avec les 3 plus proches voisins\n",
    "knn = neighbors.KNeighborsClassifier(n_neighbors=3)\n",
    "knn.fit(xtrain, ytrain)"
   ]
  },
  {
   "cell_type": "code",
   "execution_count": 7,
   "metadata": {
    "colab": {
     "base_uri": "https://localhost:8080/",
     "height": 52
    },
    "colab_type": "code",
    "id": "EDSxN-EVwlzr",
    "outputId": "eea769a7-06cb-49d7-c88c-a7b7b400f56c"
   },
   "outputs": [
    {
     "name": "stdout",
     "output_type": "stream",
     "text": [
      "Erreur: 0.069000\n",
      "0.931\n"
     ]
    }
   ],
   "source": [
    "#on test l'erreur de notre algorithme. Il renvoie le pourcentage de prédiction véridique\n",
    "error = 1 - knn.score(xtest, ytest)\n",
    "\n",
    "#ou bien\n",
    "from sklearn.metrics import accuracy_score\n",
    "knn.fit(xtrain, ytrain)\n",
    "Z = knn.predict(xtest)\n",
    "print('Erreur: %f' % error)\n",
    "print(accuracy_score(Z,ytest))"
   ]
  },
  {
   "cell_type": "markdown",
   "metadata": {
    "colab_type": "text",
    "id": "xNgg3a4bwlzu"
   },
   "source": [
    "Maintenant on va chercher à optimiser k afin de minimiser l'erreur sur les données de test"
   ]
  },
  {
   "cell_type": "code",
   "execution_count": 8,
   "metadata": {
    "colab": {
     "base_uri": "https://localhost:8080/",
     "height": 283
    },
    "colab_type": "code",
    "id": "FTlLUW6Owlzx",
    "outputId": "dc27e239-9357-40df-f828-1f79d6f54f22"
   },
   "outputs": [
    {
     "data": {
      "text/plain": [
       "[<matplotlib.lines.Line2D at 0x1bf051dd8b0>]"
      ]
     },
     "execution_count": 8,
     "metadata": {},
     "output_type": "execute_result"
    },
    {
     "data": {
      "image/png": "[encoded data removed]",
      "text/plain": [
       "<Figure size 432x288 with 1 Axes>"
      ]
     },
     "metadata": {
      "needs_background": "light"
     },
     "output_type": "display_data"
    }
   ],
   "source": [
    "from sklearn.metrics import accuracy_score\n",
    "result = []\n",
    "n_values = range(2,15)\n",
    "for n in n_values:\n",
    "    clf = neighbors.KNeighborsClassifier(n_neighbors=n)\n",
    "    clf.fit(xtrain, ytrain)\n",
    "    Z = clf.predict(xtest)\n",
    "    score = accuracy_score(Z, ytest)\n",
    "    result.append(score)\n",
    "plt.plot(list(n_values), result, 'o-')"
   ]
  },
  {
   "cell_type": "markdown",
   "metadata": {
    "colab_type": "text",
    "id": "QlIeXd4fxw4d"
   },
   "source": [
    "On voit que le k le plus performant est pour k = 3  \n",
    "Ce qui veut dire que c'est celui qui classifie le mieux les données, et qui donc dans ce cas précis reconnaît au mieux les nombres écrits à la main.  \n"
   ]
  },
  {
   "cell_type": "code",
   "execution_count": 15,
   "metadata": {
    "colab": {
     "base_uri": "https://localhost:8080/",
     "height": 264
    },
    "colab_type": "code",
    "id": "aSnzA0YNx7ng",
    "outputId": "60874272-e2da-4e5c-a652-bd223aa9c907"
   },
   "outputs": [
    {
     "data": {
      "image/png": "[encoded data removed]",
      "text/plain": [
       "<Figure size 432x288 with 12 Axes>"
      ]
     },
     "metadata": {
      "needs_background": "light"
     },
     "output_type": "display_data"
    }
   ],
   "source": [
    "#quelques prédictions...\n",
    "# On récupère le classifieur le plus performant\n",
    "knn = neighbors.KNeighborsClassifier(3)\n",
    "knn.fit(xtrain, ytrain)\n",
    "\n",
    "# On récupère les prédictions sur les données test\n",
    "predicted = knn.predict(xtest)\n",
    "\n",
    "# On redimensionne les données sous forme d'images\n",
    "images = xtest.reshape((-1, 28, 28))\n",
    "\n",
    "# On selectionne un echantillon de 12 images au hasard\n",
    "select = np.random.randint(images.shape[0], size=12)\n",
    "\n",
    "# On affiche les images avec la prédiction associée\n",
    "fig,ax = plt.subplots(3,4)\n",
    "\n",
    "for index, value in enumerate(select):\n",
    "    plt.subplot(3,4,index+1)\n",
    "    plt.axis('off')\n",
    "    plt.imshow(images[value],cmap=plt.cm.gray_r,interpolation=\"nearest\")\n",
    "    plt.title('Predicted: {}'.format( predicted[value]) )\n",
    "\n",
    "plt.show()"
   ]
  },
  {
   "cell_type": "markdown",
   "metadata": {
    "colab_type": "text",
    "id": "DyQ1UaU1yDUE"
   },
   "source": [
    "On peut également afficher les prédictions erronées"
   ]
  },
  {
   "cell_type": "code",
   "execution_count": 10,
   "metadata": {
    "colab": {
     "base_uri": "https://localhost:8080/",
     "height": 264
    },
    "colab_type": "code",
    "id": "l3IZMcw_yGn5",
    "outputId": "a6724b1e-8a95-4539-d4c2-6a5a74c7bf27"
   },
   "outputs": [
    {
     "data": {
      "image/png": "[encoded data removed]",
      "text/plain": [
       "<Figure size 432x288 with 12 Axes>"
      ]
     },
     "metadata": {
      "needs_background": "light"
     },
     "output_type": "display_data"
    }
   ],
   "source": [
    "# on récupère les données mal prédites \n",
    "misclass = (ytest != predicted)\n",
    "misclass_images = images[misclass,:,:]\n",
    "misclass_predicted = predicted[misclass]\n",
    "\n",
    "# on sélectionne un échantillon de ces images\n",
    "select = np.random.randint(misclass_images.shape[0], size=12)\n",
    "\n",
    "# on affiche les images et les prédictions (erronées) associées à ces images\n",
    "for index, value in enumerate(select):\n",
    "    plt.subplot(3,4,index+1)\n",
    "    plt.axis('off')\n",
    "    plt.imshow(misclass_images[value],cmap=plt.cm.gray_r,interpolation=\"nearest\")\n",
    "    plt.title('Predicted: {}'.format(misclass_predicted[value]) )\n",
    "\n",
    "plt.show()"
   ]
  }
 ],
 "metadata": {
  "colab": {
   "collapsed_sections": [],
   "include_colab_link": true,
   "name": "KNN.ipynb",
   "provenance": []
  },
  "kernelspec": {
   "display_name": "Python 3",
   "language": "python",
   "name": "python3"
  },
  "language_info": {
   "codemirror_mode": {
    "name": "ipython",
    "version": 3
   },
   "file_extension": ".py",
   "mimetype": "text/x-python",
   "name": "python",
   "nbconvert_exporter": "python",
   "pygments_lexer": "ipython3",
   "version": "3.8.1"
  }
 },
 "nbformat": 4,
 "nbformat_minor": 1
}
