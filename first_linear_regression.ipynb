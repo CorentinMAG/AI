{
  "nbformat": 4,
  "nbformat_minor": 0,
  "metadata": {
    "kernelspec": {
      "display_name": "Python 3",
      "language": "python",
      "name": "python3"
    },
    "language_info": {
      "codemirror_mode": {
        "name": "ipython",
        "version": 3
      },
      "file_extension": ".py",
      "mimetype": "text/x-python",
      "name": "python",
      "nbconvert_exporter": "python",
      "pygments_lexer": "ipython3",
      "version": "3.8.1"
    },
    "colab": {
      "name": "first_linear_regression.ipynb",
      "provenance": [],
      "collapsed_sections": [],
      "include_colab_link": true
    }
  },
  "cells": [
    {
      "cell_type": "markdown",
      "metadata": {
        "id": "view-in-github",
        "colab_type": "text"
      },
      "source": [
        "<a href=\"https://colab.research.google.com/github/CorentinMAG/AI/blob/master/first_linear_regression.ipynb\" target=\"_parent\"><img src=\"https://colab.research.google.com/assets/colab-badge.svg\" alt=\"Open In Colab\"/></a>"
      ]
    },
    {
      "cell_type": "code",
      "metadata": {
        "id": "RgDihVzoLl8-",
        "colab_type": "code",
        "colab": {}
      },
      "source": [
        "import numpy as np\n",
        "import matplotlib.pyplot as plt\n",
        "from sklearn.datasets import make_regression"
      ],
      "execution_count": null,
      "outputs": []
    },
    {
      "cell_type": "markdown",
      "metadata": {
        "id": "i08xrx1bLl9C",
        "colab_type": "text"
      },
      "source": [
        "# 1 Creation du dataset"
      ]
    },
    {
      "cell_type": "code",
      "metadata": {
        "id": "la4DoQrgLl9C",
        "colab_type": "code",
        "colab": {},
        "outputId": "fed4b048-ae19-42a7-e3a1-05a37d867767"
      },
      "source": [
        "x,y = make_regression(n_samples=100,n_features=1,noise=10)\n",
        "plt.scatter(x,y)"
      ],
      "execution_count": null,
      "outputs": [
        {
          "output_type": "execute_result",
          "data": {
            "text/plain": [
              "<matplotlib.collections.PathCollection at 0x2047405daf0>"
            ]
          },
          "metadata": {
            "tags": []
          },
          "execution_count": 23
        },
        {
          "output_type": "display_data",
          "data": {
            "image/png": "[encoded data removed]",
            "text/plain": [
              "<Figure size 432x288 with 1 Axes>"
            ]
          },
          "metadata": {
            "tags": [],
            "needs_background": "light"
          }
        }
      ]
    },
    {
      "cell_type": "code",
      "metadata": {
        "id": "trpATXGDLl9G",
        "colab_type": "code",
        "colab": {},
        "outputId": "95e978d9-9ae9-45e4-f2dc-24954ac9b0c4"
      },
      "source": [
        "print(x.shape)\n",
        "print(y.shape) "
      ],
      "execution_count": null,
      "outputs": [
        {
          "output_type": "stream",
          "text": [
            "(100, 1)\n",
            "(100,)\n"
          ],
          "name": "stdout"
        }
      ]
    },
    {
      "cell_type": "markdown",
      "metadata": {
        "id": "7vimws9jLl9J",
        "colab_type": "text"
      },
      "source": [
        "la dimension de y est incomplète"
      ]
    },
    {
      "cell_type": "code",
      "metadata": {
        "id": "tvQY8Pc5Ll9J",
        "colab_type": "code",
        "colab": {},
        "outputId": "29fefa65-c4ab-4532-b033-cc588a5fb273"
      },
      "source": [
        "y = y.reshape(y.shape[0],1)\n",
        "print(y.shape)"
      ],
      "execution_count": null,
      "outputs": [
        {
          "output_type": "stream",
          "text": [
            "(100, 1)\n"
          ],
          "name": "stdout"
        }
      ]
    },
    {
      "cell_type": "code",
      "metadata": {
        "id": "RhDVWHRuLl9M",
        "colab_type": "code",
        "colab": {}
      },
      "source": [
        "#matrice X \n",
        "X = np.hstack((x,np.ones(x.shape)))\n"
      ],
      "execution_count": null,
      "outputs": []
    },
    {
      "cell_type": "code",
      "metadata": {
        "id": "24lpyEUNLl9Q",
        "colab_type": "code",
        "colab": {},
        "outputId": "9ebb149e-93b1-4ad5-cb50-91ce16cb9cb8"
      },
      "source": [
        "#on doit ensuite initialiser théta, \n",
        "#on ne le connait pas, c'est la machine qui va trouver le théta qui minimise la fonction de coût\n",
        "#on se contente d'initialiser théta avec des valeurs aléatoires\n",
        "theta = np.random.randn(2,1)\n",
        "theta"
      ],
      "execution_count": null,
      "outputs": [
        {
          "output_type": "execute_result",
          "data": {
            "text/plain": [
              "array([[-2.42485094],\n",
              "       [ 0.62138469]])"
            ]
          },
          "metadata": {
            "tags": []
          },
          "execution_count": 28
        }
      ]
    },
    {
      "cell_type": "markdown",
      "metadata": {
        "id": "2Je_TPELLl9S",
        "colab_type": "text"
      },
      "source": [
        "# 2 Création du modèle"
      ]
    },
    {
      "cell_type": "code",
      "metadata": {
        "id": "3_9XjW9LLl9T",
        "colab_type": "code",
        "colab": {}
      },
      "source": [
        "#c'est une regression linéaire, de la forme Y = F*theta\n",
        "def model(X,theta):\n",
        "    return X.dot(theta)"
      ],
      "execution_count": null,
      "outputs": []
    },
    {
      "cell_type": "code",
      "metadata": {
        "id": "NKjXqnYkLl9V",
        "colab_type": "code",
        "colab": {},
        "outputId": "485f9b58-d8a0-447d-a7af-3e647efd6c68"
      },
      "source": [
        "plt.scatter(x,y)\n",
        "plt.plot(x,model(X,theta),c='r')"
      ],
      "execution_count": null,
      "outputs": [
        {
          "output_type": "execute_result",
          "data": {
            "text/plain": [
              "[<matplotlib.lines.Line2D at 0x204740c0310>]"
            ]
          },
          "metadata": {
            "tags": []
          },
          "execution_count": 30
        },
        {
          "output_type": "display_data",
          "data": {
            "image/png": "[encoded data removed]",
            "text/plain": [
              "<Figure size 432x288 with 1 Axes>"
            ]
          },
          "metadata": {
            "tags": [],
            "needs_background": "light"
          }
        }
      ]
    },
    {
      "cell_type": "markdown",
      "metadata": {
        "id": "R8eZggU-Ll9Y",
        "colab_type": "text"
      },
      "source": [
        "Pour l'intant, avec notre théta, on voit que notre modèle ne correspond pas du tout à notre dataset. Il faut maintenant calculer la fonction de coût"
      ]
    },
    {
      "cell_type": "markdown",
      "metadata": {
        "id": "rJs4-BKtLl9Y",
        "colab_type": "text"
      },
      "source": [
        "# 3 fonction de coût"
      ]
    },
    {
      "cell_type": "code",
      "metadata": {
        "id": "Y6LeV2JCLl9Y",
        "colab_type": "code",
        "colab": {}
      },
      "source": [
        "def cost_function(X,y,theta):\n",
        "    m=len(y)\n",
        "    return 1/(2*m)*np.sum((model(X,theta)-y)**2)"
      ],
      "execution_count": null,
      "outputs": []
    },
    {
      "cell_type": "code",
      "metadata": {
        "id": "zunRDoTTLl9b",
        "colab_type": "code",
        "colab": {},
        "outputId": "0e38959e-b6f8-4841-e564-77a331d8783f"
      },
      "source": [
        "cost_function(X,y,theta)"
      ],
      "execution_count": null,
      "outputs": [
        {
          "output_type": "execute_result",
          "data": {
            "text/plain": [
              "265.2429783266418"
            ]
          },
          "metadata": {
            "tags": []
          },
          "execution_count": 32
        }
      ]
    },
    {
      "cell_type": "markdown",
      "metadata": {
        "id": "XY_c7WYjLl9d",
        "colab_type": "text"
      },
      "source": [
        "ce coût doit tendre vers 0"
      ]
    },
    {
      "cell_type": "markdown",
      "metadata": {
        "id": "cxMMS-GdLl9d",
        "colab_type": "text"
      },
      "source": [
        "# 4 gradient et descente du gradient"
      ]
    },
    {
      "cell_type": "code",
      "metadata": {
        "id": "yHLEumSeLl9e",
        "colab_type": "code",
        "colab": {}
      },
      "source": [
        "def grad(X,y,theta):\n",
        "    m=len(y)\n",
        "    return 1/m*X.T.dot(model(X,theta)-y)"
      ],
      "execution_count": null,
      "outputs": []
    },
    {
      "cell_type": "code",
      "metadata": {
        "id": "3p4CTeagLl9g",
        "colab_type": "code",
        "colab": {}
      },
      "source": [
        "def gradient_descent(X,y,theta,learning_rate,n_iterations):\n",
        "    cost_history=np.zeros(n_iterations)\n",
        "    for i in range(0,n_iterations):\n",
        "        theta=theta-learning_rate*grad(X,y,theta)\n",
        "        cost_history[i]=cost_function(X,y,theta)\n",
        "    return theta,cost_history"
      ],
      "execution_count": null,
      "outputs": []
    },
    {
      "cell_type": "markdown",
      "metadata": {
        "id": "d4qRZz-XLl9i",
        "colab_type": "text"
      },
      "source": [
        "# Machine learning"
      ]
    },
    {
      "cell_type": "code",
      "metadata": {
        "id": "FzpBBWyqLl9j",
        "colab_type": "code",
        "colab": {}
      },
      "source": [
        "theta_final,cost_history = gradient_descent(X,y,theta,learning_rate=0.001,n_iterations=1000)"
      ],
      "execution_count": null,
      "outputs": []
    },
    {
      "cell_type": "code",
      "metadata": {
        "id": "PyJZOjNzLl9l",
        "colab_type": "code",
        "colab": {},
        "outputId": "1af90458-b2aa-4ff8-ca92-8179d6eac5fc"
      },
      "source": [
        "theta_final"
      ],
      "execution_count": null,
      "outputs": [
        {
          "output_type": "execute_result",
          "data": {
            "text/plain": [
              "array([[10.7574316 ],\n",
              "       [ 0.85526133]])"
            ]
          },
          "metadata": {
            "tags": []
          },
          "execution_count": 36
        }
      ]
    },
    {
      "cell_type": "code",
      "metadata": {
        "id": "ecOKj5bJLl9n",
        "colab_type": "code",
        "colab": {},
        "outputId": "107b392c-3f28-4f7f-ec1c-06c5b3443f2c"
      },
      "source": [
        "prediction = model(X,theta_final)\n",
        "plt.scatter(x,y)\n",
        "plt.plot(x,prediction,c='r')"
      ],
      "execution_count": null,
      "outputs": [
        {
          "output_type": "execute_result",
          "data": {
            "text/plain": [
              "[<matplotlib.lines.Line2D at 0x204741167c0>]"
            ]
          },
          "metadata": {
            "tags": []
          },
          "execution_count": 37
        },
        {
          "output_type": "display_data",
          "data": {
            "image/png": "[encoded data removed]",
            "text/plain": [
              "<Figure size 432x288 with 1 Axes>"
            ]
          },
          "metadata": {
            "tags": [],
            "needs_background": "light"
          }
        }
      ]
    },
    {
      "cell_type": "markdown",
      "metadata": {
        "id": "sGnPPX2lLl9q",
        "colab_type": "text"
      },
      "source": [
        "Notre programme a appris, mais ce n'est pas encore satisfaisant\n",
        "* augmenter le nombre d'itérations\n",
        "* augmenter le learning rate (car on fait peut être de trop petit pas)  \n"
      ]
    },
    {
      "cell_type": "code",
      "metadata": {
        "id": "VXAjqCaGLl9q",
        "colab_type": "code",
        "colab": {},
        "outputId": "f9b57894-c5ba-4d6a-e277-b012b00ee595"
      },
      "source": [
        "theta_final,cost_history = gradient_descent(X,y,theta,learning_rate=0.01,n_iterations=1000)\n",
        "prediction = model(X,theta_final)\n",
        "plt.scatter(x,y)\n",
        "plt.plot(x,prediction,c='r')"
      ],
      "execution_count": null,
      "outputs": [
        {
          "output_type": "execute_result",
          "data": {
            "text/plain": [
              "[<matplotlib.lines.Line2D at 0x204741860a0>]"
            ]
          },
          "metadata": {
            "tags": []
          },
          "execution_count": 39
        },
        {
          "output_type": "display_data",
          "data": {
            "image/png": "[encoded data removed]",
            "text/plain": [
              "<Figure size 432x288 with 1 Axes>"
            ]
          },
          "metadata": {
            "tags": [],
            "needs_background": "light"
          }
        }
      ]
    },
    {
      "cell_type": "code",
      "metadata": {
        "id": "ebcntwwcLl9s",
        "colab_type": "code",
        "colab": {},
        "outputId": "21928fe2-61de-473f-bfc8-f48a91c35790"
      },
      "source": [
        "plt.plot(range(1000),cost_history)"
      ],
      "execution_count": null,
      "outputs": [
        {
          "output_type": "execute_result",
          "data": {
            "text/plain": [
              "[<matplotlib.lines.Line2D at 0x204741c9f10>]"
            ]
          },
          "metadata": {
            "tags": []
          },
          "execution_count": 40
        },
        {
          "output_type": "display_data",
          "data": {
            "image/png": "[encoded data removed]",
            "text/plain": [
              "<Figure size 432x288 with 1 Axes>"
            ]
          },
          "metadata": {
            "tags": [],
            "needs_background": "light"
          }
        }
      ]
    },
    {
      "cell_type": "markdown",
      "metadata": {
        "id": "QIEaegIBLl9u",
        "colab_type": "text"
      },
      "source": [
        "On voit qu'a travers le temps, le coût diminue"
      ]
    },
    {
      "cell_type": "code",
      "metadata": {
        "id": "pBzJqKjBLl9v",
        "colab_type": "code",
        "colab": {}
      },
      "source": [
        "#c'est le R2\n",
        "def coeff_determination(y,pred):\n",
        "    u=((y-pred)**2).sum()\n",
        "    v=((y-y.mean())**2).sum()\n",
        "    return 1 - u/v"
      ],
      "execution_count": null,
      "outputs": []
    },
    {
      "cell_type": "code",
      "metadata": {
        "id": "205QuMJxLl9x",
        "colab_type": "code",
        "colab": {},
        "outputId": "9fcc4e84-ce33-4c07-fba4-fde332acffde"
      },
      "source": [
        "coeff_determination(y,prediction)"
      ],
      "execution_count": null,
      "outputs": [
        {
          "output_type": "execute_result",
          "data": {
            "text/plain": [
              "0.789696144901365"
            ]
          },
          "metadata": {
            "tags": []
          },
          "execution_count": 43
        }
      ]
    },
    {
      "cell_type": "markdown",
      "metadata": {
        "id": "aQulLecjLl91",
        "colab_type": "text"
      },
      "source": [
        "On voit que notre R2 n'est pas térrible, il faudrait réentrainer notre programme."
      ]
    }
  ]
}