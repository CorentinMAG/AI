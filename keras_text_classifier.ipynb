{
  "nbformat": 4,
  "nbformat_minor": 0,
  "metadata": {
    "colab": {
      "name": "keras_text_classifier.ipynb",
      "provenance": [],
      "authorship_tag": "ABX9TyMQBho3AaIM0a0K6ifgyxa+",
      "include_colab_link": true
    },
    "kernelspec": {
      "name": "python3",
      "display_name": "Python 3"
    }
  },
  "cells": [
    {
      "cell_type": "markdown",
      "metadata": {
        "id": "view-in-github",
        "colab_type": "text"
      },
      "source": [
        "<a href=\"https://colab.research.google.com/github/CorentinMAG/AI/blob/master/keras_text_classifier.ipynb\" target=\"_parent\"><img src=\"https://colab.research.google.com/assets/colab-badge.svg\" alt=\"Open In Colab\"/></a>"
      ]
    },
    {
      "cell_type": "code",
      "metadata": {
        "id": "r6blkSSDTMux",
        "colab_type": "code",
        "colab": {}
      },
      "source": [
        "import matplotlib.pyplot as plt\n",
        "import os\n",
        "import re\n",
        "import shutil\n",
        "import string\n",
        "import tensorflow as tf\n",
        "\n",
        "from tensorflow.keras import layers\n",
        "from tensorflow.keras import losses\n",
        "from tensorflow.keras import preprocessing\n",
        "from tensorflow.keras.layers.experimental.preprocessing import TextVectorization"
      ],
      "execution_count": 1,
      "outputs": []
    },
    {
      "cell_type": "markdown",
      "metadata": {
        "id": "5UR5aHrQT3zO",
        "colab_type": "text"
      },
      "source": [
        "# Analyse de sentiments\n",
        "\n",
        "On va utiliser le jeu de données [Large Movie Review](https://ai.stanford.edu/~amaas/data/sentiment/) qui contient le texte de 50 000 critiques de films. Ce jeu de données est divisé en :\n",
        "* 25 000 évaluations pour la formation\n",
        "* 25 000 évaluations pour les tests. \n",
        "\n",
        "Les ensembles de formation et de test sont équilibrés , ce qui signifie qu'ils contiennent un nombre égal d'avis positifs et négatifs.\n",
        "\n",
        "**Le but est de classer les critiques de film comme positives ou négatives** "
      ]
    },
    {
      "cell_type": "code",
      "metadata": {
        "id": "rtPtAB-AVIjB",
        "colab_type": "code",
        "colab": {
          "base_uri": "https://localhost:8080/",
          "height": 52
        },
        "outputId": "7dfcb6f1-754c-485e-cba5-26ab58c6dafe"
      },
      "source": [
        "url = \"https://ai.stanford.edu/~amaas/data/sentiment/aclImdb_v1.tar.gz\"\n",
        "\n",
        "#on télécharge l'archive compressé\n",
        "dataset = tf.keras.utils.get_file(\"aclImdb_v1.tar.gz\", url,\n",
        "                                    untar=True, cache_dir='.',\n",
        "                                    cache_subdir='')\n",
        "\n",
        "dataset_dir = os.path.join(os.path.dirname(dataset), 'aclImdb')"
      ],
      "execution_count": 4,
      "outputs": [
        {
          "output_type": "stream",
          "text": [
            "Downloading data from https://ai.stanford.edu/~amaas/data/sentiment/aclImdb_v1.tar.gz\n",
            "84131840/84125825 [==============================] - 6s 0us/step\n"
          ],
          "name": "stdout"
        }
      ]
    },
    {
      "cell_type": "code",
      "metadata": {
        "id": "sQCclpcTVseH",
        "colab_type": "code",
        "colab": {
          "base_uri": "https://localhost:8080/",
          "height": 35
        },
        "outputId": "dbc10855-511c-438d-d752-42fa1b342661"
      },
      "source": [
        "os.listdir(dataset_dir)"
      ],
      "execution_count": 23,
      "outputs": [
        {
          "output_type": "execute_result",
          "data": {
            "text/plain": [
              "['README', 'train', 'test', 'imdbEr.txt', 'imdb.vocab']"
            ]
          },
          "metadata": {
            "tags": []
          },
          "execution_count": 23
        }
      ]
    },
    {
      "cell_type": "code",
      "metadata": {
        "id": "3PC2rDW_WH-_",
        "colab_type": "code",
        "colab": {
          "base_uri": "https://localhost:8080/",
          "height": 72
        },
        "outputId": "30f3ef67-c53c-452a-d083-f01dd368b85e"
      },
      "source": [
        "train_dir = os.path.join(dataset_dir,'train')\n",
        "\n",
        "#dossier inutile\n",
        "#remove_dir = os.path.join(train_dir, 'unsup')\n",
        "#shutil.rmtree(remove_dir)\n",
        "\n",
        "#les dossiers pos et neg contiennent de nombreuses critiques de films\n",
        "print(os.listdir(train_dir))\n",
        "\n",
        "sample_file = os.path.join(train_dir, 'pos/1181_9.txt')\n",
        "with open(sample_file) as f:\n",
        "  print(f.read())\n",
        "\n"
      ],
      "execution_count": 29,
      "outputs": [
        {
          "output_type": "stream",
          "text": [
            "['unsupBow.feat', 'urls_pos.txt', 'neg', 'urls_unsup.txt', 'urls_neg.txt', 'pos', 'labeledBow.feat']\n",
            "Rachel Griffiths writes and directs this award winning short film. A heartwarming story about coping with grief and cherishing the memory of those we've loved and lost. Although, only 15 minutes long, Griffiths manages to capture so much emotion and truth onto film in the short space of time. Bud Tingwell gives a touching performance as Will, a widower struggling to cope with his wife's death. Will is confronted by the harsh reality of loneliness and helplessness as he proceeds to take care of Ruth's pet cow, Tulip. The film displays the grief and responsibility one feels for those they have loved and lost. Good cinematography, great direction, and superbly acted. It will bring tears to all those who have lost a loved one, and survived.\n"
          ],
          "name": "stdout"
        }
      ]
    },
    {
      "cell_type": "markdown",
      "metadata": {
        "id": "j6bXeWgNYnZp",
        "colab_type": "text"
      },
      "source": [
        "# Charger les données\n",
        "\n",
        "Pour charger les données du disque et les préparer dans un format adapté, on va utiliser la fonction : \n",
        "\n",
        "\n",
        "```\n",
        "# tf.keras.preprocessing.text_dataset_from_directory()\n",
        "```\n",
        "\n",
        "La structure des dossiers doit être la suivante : \n",
        "\n",
        ">main_directory/  \n",
        ">...class_a/  \n",
        ">......a_text_1.txt  \n",
        ">......a_text_2.txt  \n",
        ">...class_b/  \n",
        ">......b_text_1.txt  \n",
        ">......b_text_2.txt  \n",
        "\n",
        "Lors de l'exécution d'une expérience d'apprentissage automatique, il est recommandé de diviser votre ensemble de données en trois divisions:\n",
        "* entraînement\n",
        "* validation\n",
        "* test\n",
        "\n",
        "L'ensemble de données IMDB a déjà été divisé en train et test, mais il lui manque un ensemble de validation. Créons un ensemble de validation en utilisant une division 80:20 des données d'entraînement.\n",
        "\n"
      ]
    },
    {
      "cell_type": "code",
      "metadata": {
        "id": "O7XQPx7HZ-rA",
        "colab_type": "code",
        "colab": {
          "base_uri": "https://localhost:8080/",
          "height": 52
        },
        "outputId": "b0fc2315-1928-41ac-c4fc-dee31ab4db2a"
      },
      "source": [
        "batch_size = 32\n",
        "seed = 42\n",
        "\n",
        "#ensemble qui servira pour le test (20 000 = 80% de l'ensemble de train = 25 000)\n",
        "raw_train_ds = tf.keras.preprocessing.text_dataset_from_directory(\n",
        "    'aclImdb/train', \n",
        "    batch_size=batch_size, \n",
        "    validation_split=0.2, \n",
        "    subset='training', \n",
        "    seed=seed)"
      ],
      "execution_count": 30,
      "outputs": [
        {
          "output_type": "stream",
          "text": [
            "Found 25000 files belonging to 2 classes.\n",
            "Using 20000 files for training.\n"
          ],
          "name": "stdout"
        }
      ]
    },
    {
      "cell_type": "code",
      "metadata": {
        "id": "G23pX5v9bQSe",
        "colab_type": "code",
        "colab": {
          "base_uri": "https://localhost:8080/",
          "height": 176
        },
        "outputId": "45428697-52d6-4023-ae9f-29d64dc11de4"
      },
      "source": [
        "#on parcours quelques données...\n",
        "#les labels sont 0 ou 1\n",
        "for text_batch, label_batch in raw_train_ds.take(1):\n",
        "  for i in range(3):\n",
        "    print(\"Review\", text_batch.numpy()[i])\n",
        "    print(\"Label\", label_batch.numpy()[i])\n",
        "print(\"Label 0 correspond à\", raw_train_ds.class_names[0])\n",
        "print(\"Label 1 correspond à\", raw_train_ds.class_names[1])"
      ],
      "execution_count": 32,
      "outputs": [
        {
          "output_type": "stream",
          "text": [
            "Review b\"Having seen most of Ringo Lam's films, I can say that this is his best film to date, and the most unusual. It's a ancient china period piece cranked full of kick-ass martial arts, where the location of an underground lair full of traps and dungeons plays as big a part as any of the characters. The action is fantastic, the story is tense and entertaining, and the set design is truely memorable. Sadly, Burning Paradise has not been made available on DVD and vhs is next-to-impossible to get your mitts on, even if you near the second biggest china-town in North America (like I do). If you can find it, don't pass it up.\"\n",
            "Label 1\n",
            "Review b'Caution: May contain spoilers...<br /><br />I\\'ve seen this movie 3 times & I\\'ve liked it every time. Upon seeing it again, I\\'m always reminded of how good it is. An HBO TV movie- very well done like most of their movies are- this would\\'ve gotten Oscars for it\\'s performances had it been released for general distribution instead of made for TV.<br /><br />As I\\'m sure anyone knows from reading other reviews here, this is the story of serial murderer, Andrei Chikatilo. He murdered 56 people over 8 years in the former Soviet Union. (3 victims were buried & couldn\\'t be found so he was only convicted of 52 out of 53 of his murders.) The story actually focuses more on the forensic analyst, Victor Burakov played to perfection by Stephen Rea. A man that becomes tortured and obsessed with finding this killer despite the additional obstacles placed by party hacks, his part is essential to be sure. There is a very touching scene towards the end of the movie that mentions how in America, investigators are routinely taken off serial killer cases after 18 months whether they want to or not due to the mental strain & frustration. According to this acct, Burakov worked for over 5 years before getting his first break from it. He followed the case to its conclusion, 3 years later. In this scene, his superior, General Fetisov, played by Donald Sutherland, actually tells him he admires his dedication and apologizes for not knowing he should\\'ve given him a break sooner.<br /><br />Rea\\'s performance is so well done, he doesn\\'t overact, chew up the scenery or do anything that distracts from his portrayal of a man who is hell bent on finding his killer. He is a man with passion, but doesn\\'t show it in the same manner as is so usually portrayed in detective movies. He only occasionally gives outbursts after quietly putting up with more than most could stand under such circumstances. Rea does so much with his face, his eyes, he doesn\\'t need to overact. He just *is* - His character, so frustrated after so long, at one point, driven to frustration, he actually says he\\'d rather find 3 at one time than none in a year. Of course what he means is not that he wants more people to die, he just wants some clues to catch this man. Rea makes us feel for this man. He makes us understand but a glimpse of what it is to live with such horror and futility.<br /><br />A mutant to be sure, Chikatilo\\'s childhood was one which produces such \"monsters.\" The character of Chikatilo is very well done by Jeffrey DeMunn. He somehow (impossible though it may seem) elicits some modicum of sympathy for himself. Perhaps he is the worst of us gone terribly wrong? Either way, his performance is very well done.<br /><br />Donald Sutherland as Colonel Fetisov (later promoted to General) also does a great job. He starts out seeming to be a cynical worldly official that doesn\\'t seem much more interested in helping the investigation than anyone else blocking Burakov. But he eventually becomes more than just an assistant, he actually actively participates in helping Burakov. There is also a very nice turn by Max Von Sydow as the psychiatrist brought in to help profile and figure out what kind of deviant they are looking for.<br /><br />Although this movie deals with a morbid, grotesque and violent story, it really is more about what it takes to catch a killer than the killer himself. All around a very well done movie with fine performances and a great screenplay. The screenplay manages to do what the best of this type of movie does: give factual events & place them meaningfully inside a dramatic framework that makes you feel like you know the people *behind* the facts.<br /><br />9 out of 10 stars'\n",
            "Label 1\n",
            "Review b\"from the view of a NASCAR Maniac like I am, the movie is interesting. You can see many race cars from 1983. Even tough, the racing scenes are not that much realistic. But I have to admit, that I haven't seen any race before 1995, because before that time, they didn't show any NASCAR races in Germany)<br /><br />from the view of a Burt Reynolds fan like I am, the movie basically is what we are used to see from Reynolds in the 80's: Burt behind the wheel of a fast car, like in his Bandit Movies.<br /><br />If you love NASCAR and Burt Reynolds, this movie is a must-see. If you only love one of this 2 things, I also recommend to watch it. If you like neither NASCAR nor Burt Reynolds, you still should give it a chance, but remember, this movie was far away from winning an Oscar Academy Award.<br /><br />It is the typical humor of the 80's. If you like movies like the Cannonball Movies, and Police Academy, you will also like that one.\"\n",
            "Label 1\n",
            "Label 0 correspond à neg\n",
            "Label 1 correspond à pos\n"
          ],
          "name": "stdout"
        }
      ]
    },
    {
      "cell_type": "code",
      "metadata": {
        "id": "NlutgWi9dMUp",
        "colab_type": "code",
        "colab": {
          "base_uri": "https://localhost:8080/",
          "height": 52
        },
        "outputId": "897e5e25-30af-4914-f940-4bdd01cbb7bc"
      },
      "source": [
        "#on crée un ensemble de valisation (5 000 fichiers)\n",
        "raw_val_ds = tf.keras.preprocessing.text_dataset_from_directory(\n",
        "    'aclImdb/train', \n",
        "    batch_size=batch_size, \n",
        "    validation_split=0.2, \n",
        "    subset='validation', \n",
        "    seed=seed)"
      ],
      "execution_count": 33,
      "outputs": [
        {
          "output_type": "stream",
          "text": [
            "Found 25000 files belonging to 2 classes.\n",
            "Using 5000 files for validation.\n"
          ],
          "name": "stdout"
        }
      ]
    },
    {
      "cell_type": "code",
      "metadata": {
        "id": "PCCYp44fdl1V",
        "colab_type": "code",
        "colab": {
          "base_uri": "https://localhost:8080/",
          "height": 35
        },
        "outputId": "8cf5b262-a6b7-4c69-d9a9-1004b376342e"
      },
      "source": [
        "#on crée un dataset avec les fichiers dans le dossier test\n",
        "raw_test_ds = tf.keras.preprocessing.text_dataset_from_directory(\n",
        "    'aclImdb/test', \n",
        "    batch_size=batch_size)"
      ],
      "execution_count": 34,
      "outputs": [
        {
          "output_type": "stream",
          "text": [
            "Found 25000 files belonging to 2 classes.\n"
          ],
          "name": "stdout"
        }
      ]
    },
    {
      "cell_type": "markdown",
      "metadata": {
        "id": "vFnfTe44eVE1",
        "colab_type": "text"
      },
      "source": [
        "# Préparer l'ensemble de données pour la formation\n",
        "\n",
        "On va standardiser, tokeniser et vectoriser les données à l'aide de la couche `tf.keras.layers.experimental.preprocessing.TextVectorization()`\n",
        "\n",
        "* **La normalisation** fait référence au prétraitement du texte, généralement pour supprimer la ponctuation ou les éléments HTML pour simplifier l'ensemble de données. \n",
        "* **La tokenisation** fait référence à la division de chaînes en jetons (par exemple, la division d'une phrase en mots individuels, en la fractionnant sur des espaces). \n",
        "* **La vectorisation** fait référence à la conversion de jetons en nombres afin qu'ils puissent être introduits dans un réseau neuronal. \n"
      ]
    },
    {
      "cell_type": "code",
      "metadata": {
        "id": "XHyHnSq0fMbQ",
        "colab_type": "code",
        "colab": {}
      },
      "source": [
        "#on crée une fonction pour retirer le HTML des critiques car la couche TextVectorisation ne le fait pas\n",
        "def custom_standardization(input_data):\n",
        "  lowercase = tf.strings.lower(input_data)\n",
        "  stripped_html = tf.strings.regex_replace(lowercase, '<br />', ' ')\n",
        "  return tf.strings.regex_replace(stripped_html,\n",
        "                                  '[%s]' % re.escape(string.punctuation),\n",
        "                                  '')"
      ],
      "execution_count": 39,
      "outputs": []
    },
    {
      "cell_type": "code",
      "metadata": {
        "id": "SG-MnI-3fj5D",
        "colab_type": "code",
        "colab": {}
      },
      "source": [
        "max_features = 10000\n",
        "sequence_length = 250\n",
        "\n",
        "#on standardise, tokenise et vectorise nos données\n",
        "vectorize_layer = TextVectorization(\n",
        "    standardize=custom_standardization,\n",
        "    max_tokens=max_features,\n",
        "    output_mode='int',\n",
        "    output_sequence_length=sequence_length)"
      ],
      "execution_count": 40,
      "outputs": []
    },
    {
      "cell_type": "markdown",
      "metadata": {
        "id": "NNfod_FyhQlu",
        "colab_type": "text"
      },
      "source": [
        "Ensuite, il faut appeler la méthode `adapt()` pour que l'état de la couche puisse être appliqué aux données"
      ]
    },
    {
      "cell_type": "code",
      "metadata": {
        "id": "GOJ87b4ZhQLv",
        "colab_type": "code",
        "colab": {
          "base_uri": "https://localhost:8080/",
          "height": 505
        },
        "outputId": "78a055b0-0e48-42e9-b908-a1bd8242af7f"
      },
      "source": [
        "#on enlève les labels, car c'est uniquement les critiques qui doivent être transformées par la couche\n",
        "train_text = raw_train_ds.map(lambda x, y: x)\n",
        "\n",
        "#il est important d'apeller adapt() sur les données d'entrainement et pas un autre dataset\n",
        "vectorize_layer.adapt(train_text)\n",
        "\n",
        "#fonction pour voir le résultat de la couche TextVectorisation pour prétraiter certaines données\n",
        "def vectorize_text(text, label):\n",
        "  #notre text est transformé en un tenseur de forme (1,)\n",
        "  text = tf.expand_dims(text, -1)\n",
        "  return vectorize_layer(text), label\n",
        "\n",
        "#récupère un lot de 32 critiques et leur label du dataset\n",
        "text_batch, label_batch = next(iter(raw_train_ds))\n",
        "first_review, first_label = text_batch[0], label_batch[0]\n",
        "print(\"Review\", first_review)\n",
        "print(\"Label\", raw_train_ds.class_names[first_label])\n",
        "print(\"Vectorized review\", vectorize_text(first_review, first_label))\n",
        "\n",
        "#chaque critique étant normalisé, puis tokenisé puis vectorisé,\n",
        "#la fonction get_vocabulary() permet à partir d'un entier de retrouver le token (chaine)\n",
        "print(vectorize_layer.get_vocabulary()[1287])"
      ],
      "execution_count": 70,
      "outputs": [
        {
          "output_type": "stream",
          "text": [
            "Review tf.Tensor(b'The Last Hunt is the forgotten Hollywood classic western. The theme of genocide via buffalo slaughter is present in other films but never so savagely. Robert Taylor\\'s against-type role as the possessed buffalo and Indian killer is his finest performance.<br /><br />In the 1950s, your mom dropped you and your friends off at the Saterday matin\\xc3\\xa9e, usually featuring a western or comedy. But it was wrong then and now to let a youngster watch psycho-dramas like The Searchers and The Last Hunt. Let the kids wait a few years before exposing them to films with repressed sexual sadism and intense racial hatred.<br /><br />Why did Mom fail to censor these films? Because they featured \"safe\" Hollywood stars like Taylor and John Wayne. But the climatic scene in The Last Hunt is as horrifying as Vincent Price\\'s mutation in The Fly.<br /><br />The mythology of the white buffalo, part of the texture of this movie, was later ripped-off by other movies including The White Buffalo, starring Charles Bronson as Wild Bill Hickock. The laugh here is that Bronson used to play Indians.<br /><br />Today a large remnant bison herd resides in Yellowstone National Park in Wyoming. In the winter, hunger forces surplus animals out of the park into Montana, where they are sometimes harvested by Idaho\\'s Nez Perce Indians under a US treaty right that pre-dates the Lincoln Presidency. Linclon signed the Congressional act which authorized the continental railroad and started the buffalo slaughter.', shape=(), dtype=string)\n",
            "Label pos\n",
            "Vectorized review (<tf.Tensor: shape=(1, 250), dtype=int64, numpy=\n",
            "array([[   2,  229, 2498,    7,    2, 1576,  354,  352, 1016,    2,  731,\n",
            "           5,    1, 2742, 5288, 4445,    7, 1006,    8,   78,   94,   18,\n",
            "         110,   37,    1,  639,    1,    1,  214,   14,    2, 3966, 5288,\n",
            "           3, 1377,  466,    7,   24, 1753,  234,    8,    2, 1986,  123,\n",
            "        1611, 3357,   22,    3,  123,  335,  127,   31,    2,    1,    1,\n",
            "         613, 1859,    4, 1016,   41,  220,   18,    9,   13,  337,   92,\n",
            "           3,  148,    6,  370,    4,    1,  103,    1,   38,    2,    1,\n",
            "           3,    2,  229, 2498,  370,    2,  328,  819,    4,  166,  149,\n",
            "         153, 8682,   93,    6,   94,   16, 7054,  845,    1,    3, 1541,\n",
            "        4488, 3638,  133,  117, 1611, 1760,    6,    1,  129,   94,   84,\n",
            "          34, 2564, 2363,  354,  378,   38, 1868,    3,  307, 2385,   18,\n",
            "           2, 9883,  134,    8,    2,  229, 2498,    7,   14, 4382,   14,\n",
            "        3340, 9029,    1,    8,    2, 2295,    2, 6282,    5,    2,  441,\n",
            "        5288,  170,    5,    2, 8986,    5,   11,   17,   13,  298,    1,\n",
            "          32,   78,   91,  580,    2,  441, 5288, 1207, 1348, 6447,   14,\n",
            "        1341,  987, 9330,    2,  472,  128,    7,   12, 6447,  330,    6,\n",
            "         293, 3671,  637,    4, 1057,    1,    1, 8268,    1,    8,    1,\n",
            "        1993, 1551,    8, 9940,    8,    2, 3371,    1, 1916,    1, 1310,\n",
            "          44,    5,    2, 1551,   81, 4492,  114,   34,   23,  517,    1,\n",
            "          32,    1,    1,    1, 3671,  498,    4,  167,    1,  205,   12,\n",
            "           1,    2, 3381,    1,    1, 4589,    2,    1,  497,   60,    1,\n",
            "           2,    1,    1,    3,  606,    2, 5288, 4445,    0,    0,    0,\n",
            "           0,    0,    0,    0,    0,    0,    0,    0]])>, <tf.Tensor: shape=(), dtype=int32, numpy=1>)\n",
            "silent\n"
          ],
          "name": "stdout"
        }
      ]
    },
    {
      "cell_type": "markdown",
      "metadata": {
        "id": "Mtn7NQ9TjZAq",
        "colab_type": "text"
      },
      "source": [
        "Enfin, on applique la couche TextVectorisation à l'ensemble des données"
      ]
    },
    {
      "cell_type": "code",
      "metadata": {
        "id": "nt3jXezMjh5r",
        "colab_type": "code",
        "colab": {}
      },
      "source": [
        "train_ds = raw_train_ds.map(vectorize_text)\n",
        "val_ds = raw_val_ds.map(vectorize_text)\n",
        "test_ds = raw_test_ds.map(vectorize_text)"
      ],
      "execution_count": 61,
      "outputs": []
    },
    {
      "cell_type": "markdown",
      "metadata": {
        "id": "3caWMIHysQTM",
        "colab_type": "text"
      },
      "source": [
        "# Configurer l'ensemble de données pour les performances\n",
        "\n",
        "Ce sont deux méthodes importantes que vous devez utiliser lors du chargement de données pour vous assurer que les E / S ne deviennent pas bloquantes.\n",
        "\n",
        "* `.cache()` garde les données en mémoire après leur chargement hors du disque. Cela garantira que l'ensemble de données ne deviendra pas un goulot d'étranglement lors de l'entraînement de votre modèle. Si votre ensemble de données est trop volumineux pour tenir dans la mémoire, vous pouvez également utiliser cette méthode pour créer un cache sur disque performant, qui est plus efficace à lire que de nombreux petits fichiers.\n",
        "\n",
        "* `.prefetch()` chevauche le prétraitement des données et l'exécution du modèle pendant l'entraînement."
      ]
    },
    {
      "cell_type": "code",
      "metadata": {
        "id": "DyDuveDGsz05",
        "colab_type": "code",
        "colab": {}
      },
      "source": [
        "AUTOTUNE = tf.data.experimental.AUTOTUNE\n",
        "\n",
        "train_ds = train_ds.cache().prefetch(buffer_size=AUTOTUNE)\n",
        "val_ds = val_ds.cache().prefetch(buffer_size=AUTOTUNE)\n",
        "test_ds = test_ds.cache().prefetch(buffer_size=AUTOTUNE)"
      ],
      "execution_count": 71,
      "outputs": []
    },
    {
      "cell_type": "markdown",
      "metadata": {
        "id": "xZyQmBbVs2HG",
        "colab_type": "text"
      },
      "source": [
        "# Créer le modèle"
      ]
    },
    {
      "cell_type": "code",
      "metadata": {
        "id": "D8ZwtSl4s5pX",
        "colab_type": "code",
        "colab": {
          "base_uri": "https://localhost:8080/",
          "height": 329
        },
        "outputId": "47e66a23-bc2e-4aac-858b-8564f313c3d3"
      },
      "source": [
        "embedding_dim = 16\n",
        "\n",
        "model = tf.keras.Sequential([\n",
        "                             \n",
        "  #cette couche prend les critiques encodées en entier et recherche un vecteur d'incorporation (de taille 16) \n",
        "  #pour chaque entier (donc pour chaque mot)\n",
        "  layers.Embedding(max_features + 1, embedding_dim),\n",
        "  layers.Dropout(0.2),\n",
        "  #cette couche renvoie un vecteur de longueur fixe. Cela permet au modèle de gérer des entrées de longueur variable, \n",
        "  #de la manière la plus simple possible\n",
        "  layers.GlobalAveragePooling1D(),\n",
        "  layers.Dropout(0.2),\n",
        "  layers.Dense(1)])\n",
        "\n",
        "model.summary()"
      ],
      "execution_count": 73,
      "outputs": [
        {
          "output_type": "stream",
          "text": [
            "Model: \"sequential_1\"\n",
            "_________________________________________________________________\n",
            "Layer (type)                 Output Shape              Param #   \n",
            "=================================================================\n",
            "embedding_1 (Embedding)      (None, None, 16)          160016    \n",
            "_________________________________________________________________\n",
            "dropout_2 (Dropout)          (None, None, 16)          0         \n",
            "_________________________________________________________________\n",
            "global_average_pooling1d_1 ( (None, 16)                0         \n",
            "_________________________________________________________________\n",
            "dropout_3 (Dropout)          (None, 16)                0         \n",
            "_________________________________________________________________\n",
            "dense_1 (Dense)              (None, 1)                 17        \n",
            "=================================================================\n",
            "Total params: 160,033\n",
            "Trainable params: 160,033\n",
            "Non-trainable params: 0\n",
            "_________________________________________________________________\n"
          ],
          "name": "stdout"
        }
      ]
    },
    {
      "cell_type": "markdown",
      "metadata": {
        "id": "Qd2tJuodyF-o",
        "colab_type": "text"
      },
      "source": [
        "# Fonction de perte et optimiseur\n",
        "\n",
        "Un modèle a besoin d'une fonction de perte et d'un optimiseur pour l'entraînement"
      ]
    },
    {
      "cell_type": "code",
      "metadata": {
        "id": "8MNUTKU0yTn2",
        "colab_type": "code",
        "colab": {}
      },
      "source": [
        "model.compile(loss=losses.BinaryCrossentropy(from_logits=True), optimizer='adam', metrics=tf.metrics.BinaryAccuracy(threshold=0.0))"
      ],
      "execution_count": 74,
      "outputs": []
    },
    {
      "cell_type": "markdown",
      "metadata": {
        "id": "UkpoVrCHyXxY",
        "colab_type": "text"
      },
      "source": [
        "# Former le modèle \n",
        "\n",
        "On entraine le modèle en passant le dataset à la méthode `fit()`"
      ]
    },
    {
      "cell_type": "code",
      "metadata": {
        "id": "ivzbKv2Bylci",
        "colab_type": "code",
        "colab": {
          "base_uri": "https://localhost:8080/",
          "height": 364
        },
        "outputId": "be6a1fc1-599d-4a9a-8e71-3f5c7ea8e44a"
      },
      "source": [
        "epochs = 10\n",
        "history = model.fit(\n",
        "    train_ds,\n",
        "    validation_data=val_ds,\n",
        "    epochs=epochs)"
      ],
      "execution_count": 75,
      "outputs": [
        {
          "output_type": "stream",
          "text": [
            "Epoch 1/10\n",
            "625/625 [==============================] - 13s 21ms/step - loss: 0.6628 - binary_accuracy: 0.6970 - val_loss: 0.6138 - val_binary_accuracy: 0.7752\n",
            "Epoch 2/10\n",
            "625/625 [==============================] - 4s 7ms/step - loss: 0.5481 - binary_accuracy: 0.8033 - val_loss: 0.4978 - val_binary_accuracy: 0.8230\n",
            "Epoch 3/10\n",
            "625/625 [==============================] - 4s 6ms/step - loss: 0.4450 - binary_accuracy: 0.8450 - val_loss: 0.4197 - val_binary_accuracy: 0.8466\n",
            "Epoch 4/10\n",
            "625/625 [==============================] - 4s 6ms/step - loss: 0.3780 - binary_accuracy: 0.8658 - val_loss: 0.3735 - val_binary_accuracy: 0.8612\n",
            "Epoch 5/10\n",
            "625/625 [==============================] - 4s 6ms/step - loss: 0.3355 - binary_accuracy: 0.8799 - val_loss: 0.3445 - val_binary_accuracy: 0.8678\n",
            "Epoch 6/10\n",
            "625/625 [==============================] - 4s 6ms/step - loss: 0.3041 - binary_accuracy: 0.8907 - val_loss: 0.3256 - val_binary_accuracy: 0.8712\n",
            "Epoch 7/10\n",
            "625/625 [==============================] - 4s 6ms/step - loss: 0.2807 - binary_accuracy: 0.8979 - val_loss: 0.3124 - val_binary_accuracy: 0.8732\n",
            "Epoch 8/10\n",
            "625/625 [==============================] - 4s 6ms/step - loss: 0.2611 - binary_accuracy: 0.9049 - val_loss: 0.3028 - val_binary_accuracy: 0.8778\n",
            "Epoch 9/10\n",
            "625/625 [==============================] - 4s 6ms/step - loss: 0.2455 - binary_accuracy: 0.9112 - val_loss: 0.2964 - val_binary_accuracy: 0.8780\n",
            "Epoch 10/10\n",
            "625/625 [==============================] - 4s 6ms/step - loss: 0.2307 - binary_accuracy: 0.9174 - val_loss: 0.2916 - val_binary_accuracy: 0.8800\n"
          ],
          "name": "stdout"
        }
      ]
    },
    {
      "cell_type": "markdown",
      "metadata": {
        "id": "gBp7YM6yyoyE",
        "colab_type": "text"
      },
      "source": [
        "# Evaluer le modèle\n",
        "\n",
        "Deux valeurs sont renvoyés, la perte et la précision"
      ]
    },
    {
      "cell_type": "code",
      "metadata": {
        "id": "hbgr5I1Vyy7N",
        "colab_type": "code",
        "colab": {
          "base_uri": "https://localhost:8080/",
          "height": 69
        },
        "outputId": "fbf981ae-02e5-49d8-dcda-6cc15e776520"
      },
      "source": [
        "loss, accuracy = model.evaluate(test_ds)\n",
        "\n",
        "print(\"Loss: \", loss)\n",
        "print(\"Accuracy: \", accuracy)"
      ],
      "execution_count": 76,
      "outputs": [
        {
          "output_type": "stream",
          "text": [
            "782/782 [==============================] - 11s 15ms/step - loss: 0.3098 - binary_accuracy: 0.8749\n",
            "Loss:  0.3097951412200928\n",
            "Accuracy:  0.8748800158500671\n"
          ],
          "name": "stdout"
        }
      ]
    },
    {
      "cell_type": "markdown",
      "metadata": {
        "id": "pIR8i3cgy4y2",
        "colab_type": "text"
      },
      "source": [
        "# Créer un graphique de précision et de perte au fil du temps\n",
        "\n",
        "`model.fit()` retourne un objet History qui contient un dictionnaire avec tout ce qui s'est passé pendant l'entraînement:"
      ]
    },
    {
      "cell_type": "code",
      "metadata": {
        "id": "SN360C1CzExr",
        "colab_type": "code",
        "colab": {
          "base_uri": "https://localhost:8080/",
          "height": 35
        },
        "outputId": "8438ced0-36d7-4be4-efda-cc07b080bb96"
      },
      "source": [
        "history_dict = history.history\n",
        "history_dict.keys()"
      ],
      "execution_count": 77,
      "outputs": [
        {
          "output_type": "execute_result",
          "data": {
            "text/plain": [
              "dict_keys(['loss', 'binary_accuracy', 'val_loss', 'val_binary_accuracy'])"
            ]
          },
          "metadata": {
            "tags": []
          },
          "execution_count": 77
        }
      ]
    },
    {
      "cell_type": "markdown",
      "metadata": {
        "id": "JA9gn7WfzQfu",
        "colab_type": "text"
      },
      "source": [
        "Il y a quatre entrées: une pour chaque métrique surveillée pendant la formation et la validation. On peux les utiliser pour tracer la perte de formation et de validation à des fins de comparaison, ainsi que la précision de la formation et de la validation"
      ]
    },
    {
      "cell_type": "code",
      "metadata": {
        "id": "cqIZBZa3zWi4",
        "colab_type": "code",
        "colab": {
          "base_uri": "https://localhost:8080/",
          "height": 295
        },
        "outputId": "11e9d8a8-4382-45f8-eb95-46d69995f7bb"
      },
      "source": [
        "acc = history_dict['binary_accuracy']\n",
        "val_acc = history_dict['val_binary_accuracy']\n",
        "loss = history_dict['loss']\n",
        "val_loss = history_dict['val_loss']\n",
        "\n",
        "epochs = range(1, len(acc) + 1)\n",
        "\n",
        "# \"bo\" is for \"blue dot\"\n",
        "plt.plot(epochs, loss, 'bo', label='Training loss')\n",
        "# b is for \"solid blue line\"\n",
        "plt.plot(epochs, val_loss, 'b', label='Validation loss')\n",
        "plt.title('Training and validation loss')\n",
        "plt.xlabel('Epochs')\n",
        "plt.ylabel('Loss')\n",
        "plt.legend()\n",
        "\n",
        "plt.show()"
      ],
      "execution_count": 78,
      "outputs": [
        {
          "output_type": "display_data",
          "data": {
            "image/png": "[encoded data removed]",
            "text/plain": [
              "<Figure size 432x288 with 1 Axes>"
            ]
          },
          "metadata": {
            "tags": [],
            "needs_background": "light"
          }
        }
      ]
    },
    {
      "cell_type": "markdown",
      "metadata": {
        "id": "GVixb4Epzq1J",
        "colab_type": "text"
      },
      "source": [
        "On note que la perte diminue à chaque epoque"
      ]
    },
    {
      "cell_type": "code",
      "metadata": {
        "id": "DB5HfqFbza3I",
        "colab_type": "code",
        "colab": {
          "base_uri": "https://localhost:8080/",
          "height": 295
        },
        "outputId": "670cb0ca-6fb4-4b33-9de0-d09fb722b2a4"
      },
      "source": [
        "plt.plot(epochs, acc, 'bo', label='Training acc')\n",
        "plt.plot(epochs, val_acc, 'b', label='Validation acc')\n",
        "plt.title('Training and validation accuracy')\n",
        "plt.xlabel('Epochs')\n",
        "plt.ylabel('Accuracy')\n",
        "plt.legend(loc='lower right')\n",
        "\n",
        "plt.show()"
      ],
      "execution_count": 79,
      "outputs": [
        {
          "output_type": "display_data",
          "data": {
            "image/png": "[encoded data removed]",
            "text/plain": [
              "<Figure size 432x288 with 1 Axes>"
            ]
          },
          "metadata": {
            "tags": [],
            "needs_background": "light"
          }
        }
      ]
    },
    {
      "cell_type": "markdown",
      "metadata": {
        "id": "h-tCETKBzz8j",
        "colab_type": "text"
      },
      "source": [
        "La précision augmente à chaque époque\n",
        "Pour les deux graphes, on voit que validation loss est plus élevé que training loss de même pour validation acc.\n",
        "\n",
        "C'est un exemple de sur-entrainement: le modèle fonctionne mieux sur les données d'entraînement que sur les données qu'il n'a jamais vues auparavant"
      ]
    },
    {
      "cell_type": "markdown",
      "metadata": {
        "id": "REcW8tXW2Jlk",
        "colab_type": "text"
      },
      "source": [
        "# Exporter le modèle\n",
        "\n",
        "Dans le code ci-dessus, on a appliqué la couche TextVectorization au jeu de données avant d'alimenter le modèle en texte. Si on souhaite rendre le modèle capable de traiter des chaînes brutes (par exemple, pour simplifier son déploiement), on peut inclure la couche TextVectorization dans le modèle. Pour ce faire, on doit créer un nouveau modèle."
      ]
    },
    {
      "cell_type": "code",
      "metadata": {
        "id": "GO-u5Kb12a6D",
        "colab_type": "code",
        "colab": {
          "base_uri": "https://localhost:8080/",
          "height": 52
        },
        "outputId": "3b72ad45-1a62-49c6-cb7f-52a3a1c4f4fa"
      },
      "source": [
        "export_model = tf.keras.Sequential([\n",
        "  vectorize_layer,\n",
        "  model,\n",
        "  layers.Activation('sigmoid')\n",
        "])\n",
        "\n",
        "export_model.compile(\n",
        "    loss=losses.BinaryCrossentropy(from_logits=False), optimizer=\"adam\", metrics=['accuracy']\n",
        ")\n",
        "\n",
        "# Test it with `raw_test_ds`, which yields raw strings\n",
        "loss, accuracy = export_model.evaluate(raw_test_ds)\n",
        "print(accuracy)"
      ],
      "execution_count": 80,
      "outputs": [
        {
          "output_type": "stream",
          "text": [
            "782/782 [==============================] - 10s 13ms/step - loss: 0.3098 - accuracy: 0.8749\n",
            "0.8748800158500671\n"
          ],
          "name": "stdout"
        }
      ]
    }
  ]
}